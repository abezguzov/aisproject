{
 "cells": [
  {
   "cell_type": "markdown",
   "metadata": {
    "colab_type": "text",
    "id": "4S68TngS8QOh"
   },
   "source": [
    "# **Application of AIS Data for commodities tracking**"
   ]
  },
  {
   "cell_type": "markdown",
   "metadata": {
    "colab_type": "text",
    "id": "kLQ1IRLO8fvd"
   },
   "source": [
    "This project aims at investigating the quality and utility of Automatic Identification System (AIS) data. AIS data is primarily used as a tracking system for ships, but with the launch if satellites to collect this data new and previously untested posibilities are emerging."
   ]
  },
  {
   "cell_type": "markdown",
   "metadata": {
    "colab_type": "text",
    "id": "zNMHBbTbARhX"
   },
   "source": [
    " Initially AIS system was put in place as a safety measure by providing data to monitor ship traffic and avoid accidents, especially in highly trafficked waterways. But currently it can be efficiently used as a tool for for tracking commodities."
   ]
  },
  {
   "cell_type": "markdown",
   "metadata": {
    "colab_type": "text",
    "id": "h8SC1DcEPbG-"
   },
   "source": [
    "## **Project scope**"
   ]
  },
  {
   "cell_type": "markdown",
   "metadata": {
    "colab_type": "text",
    "id": "CYRyqLPZPjuH"
   },
   "source": [
    "This project will be split in three different sections:\n",
    "1. We'll get our hands on raw AIS data sample, decode it with AIS Parser SDK v1.10 and look into what parts of messages will be interesting for us to look into.\n",
    "2. As the sample from AISHub is too small, we'll download dataset from Marine Cadastre which covers one time zone around Louisiana Offshore Oil Port (LOOP) for the period of January till June, 2015. Oil price was at its lowest point (47 dollars per barrel) in January, 2015 after crashing from 108 dollars per barrel mark in June 2014. Seasonality will also influence crude oil prices under normal supply and demand conditions. But compared to geopolitical tensions, oil glut, economic slowdown, or a financial crisis, the seasonality factor could have a minor effect. We'll work through the dataset, do a quick analysis and clean it, leaving only entries which have passed QC and are interesting for us. \n",
    "3. Lastly, we'll dive into GIS part (Geographic Information Systems) where we generate vessel routes and vessel position heatmaps if data consistency allows. Also we will look at major ports and nearby refineries of Texas and Lousiana. Main points of interest are LOOP with three single point mooring (SPM) buoys and port Houston. Final vizualization will be published online.\n",
    "\n",
    "You can follow along by downloading data and AIS Parser SDK from the links below. We'll also use FME (very powerful spatial extract, transform and load tool) to transform Latitude/Longitude coordinates to geometry points, connect them to make routes and generate .shp files (native format for geospatial data). \n",
    "\n",
    "**Licenses:**\n",
    "\n",
    "AIS Parser SDK is released under BSD license. FME is available as a trial version, but if you're a student you can get one year student license with one more year of extension. So FME is actually allowed for you to use at your new workspace after graduation. I honestly think it is great software and you definitely need to try it, because it is super powerful, has more than 400 transformers available, works with lots of data sources in read/write mode. And it's free! "
   ]
  },
  {
   "cell_type": "markdown",
   "metadata": {
    "colab_type": "text",
    "id": "LjK_Weu9VMR2"
   },
   "source": [
    "**Here are the links:**\n",
    "*   AIS Parser SDK v1.10 - https://github.com/bcl/aisparser\n",
    "*   Raw AIS Data Sample - https://mods.marin.nl/download/attachments/28770618/nmea-sample.zip?version=1&modificationDate=1497529053000&api=v2\n",
    "*  US data split by UTM zones and years - https://marinecadastre.gov/ais/\n",
    "*  FME - https://www.safe.com/fme/fme-desktop/trial-download/\n",
    "\n",
    "if you are like me and heard about AIS two weeks ago, there are also countless articles and several studies online that will help and guide you. That's a very interesting topic with various business applications, so let's dive in.\n"
   ]
  },
  {
   "cell_type": "markdown",
   "metadata": {
    "colab_type": "text",
    "id": "FQK1ixqwSYyf"
   },
   "source": [
    "## **AIS Data - General Overview**"
   ]
  },
  {
   "cell_type": "markdown",
   "metadata": {
    "colab_type": "text",
    "id": "BI5bm2C_9lE0"
   },
   "source": [
    "AIS data can be provided by both satellites and land based receivers. Both methods provide raw data, then this data has to be decoded to get several messages .  To decode raw data we'll use AIS Parser SDK v1.10. After decoding, we can receive static and dynamic information."
   ]
  },
  {
   "cell_type": "markdown",
   "metadata": {
    "colab_type": "text",
    "id": "yqOCNpaN-c0p"
   },
   "source": [
    "**Dynamic information** is transmitted every 2 to 10 seconds depending on the vessel's speed and course while underway and every 6 minutes while anchored. It contains:\n",
    "\n",
    "\n",
    "*  Maritime Mobile Service Identity number (MMSI) - a unique identification number for each vessel station\n",
    "*  AIS Navigational Status\n",
    "*  Rate of Turn - right or left (0 to 720 degrees per minute)\n",
    "*  Speed over Ground - 0 to 102 knots (0.1-knot resolution)\n",
    "*  Position Coordinates (latitude/longitude - up to 0.0001 minutes accuracy)\n",
    "*  Course over Ground - up to 0.1° relative to true north\n",
    "*  Heading - 0 to 359 degrees\n",
    "*  Bearing at own position - 0 to 359 degrees\n",
    "*  UTC seconds"
   ]
  },
  {
   "cell_type": "markdown",
   "metadata": {
    "colab_type": "text",
    "id": "Uff71gJH_hak"
   },
   "source": [
    "**Static & Voyage related information** is provided by the subject vessel's crew and is transmitted every 6 minutes regardless of the vessel's movement status. This information is of great importance to us as it contains more metadata about vessel and journey itself:\n",
    "* International Maritime Organisation number (IMO) - note that this number remains the same upon transfer of the subject vessel's registration to another country (flag)\n",
    "* Call Sign - international radio call sign assigned to the vessel by her country of registry\n",
    "* Name - up to 20 characters\n",
    "* Type (or cargo type) - the AIS ID of the subject vessel's shiptype\n",
    "* Dimensions - approximated to the nearest metre (based on the position of the AIS Station on the vessel)\n",
    "* Location of the positioning system's antenna on board the vessel\n",
    "* Type of positioning system (GPS, DGPS, Loran-C)\n",
    "* Draught - 0.1 to 25.5 metres\n",
    "* Destination - up to 20 characters\n",
    "* ETA (estimated time of arrival) - UTC month/date hours:minutes"
   ]
  },
  {
   "cell_type": "markdown",
   "metadata": {
    "colab_type": "text",
    "id": "_ubnnDtPBQHj"
   },
   "source": [
    "## Decoding Raw AIS Data"
   ]
  },
  {
   "cell_type": "markdown",
   "metadata": {
    "colab_type": "text",
    "id": "4CwxywpNEM4K"
   },
   "source": [
    "For this part of the project we will get our hands on AIS Raw data sample and AIS Parser SDK v1.10. You can download parser from GitHub link above. I didn't try to install it on Windows machine, but workaround on Mac is fairly easy. Firstly, download Homebrew for Mac. It is free software package management system for Mac. There are lots of packages available and with Homebrew it is really to install them. \n",
    "\n",
    "For our particular case we'll need to install 'Swig\" (software tool that helps to wrap libraries written in C or C++ with scripting languages such as Lua, Perl, PHP, Python). With Homebrew it is as easy as typing \"brew install swig\" in your terminal. \n",
    "\n",
    "Then we'll download the git, go to the \"aisparser/python/osx/buildit\" folder and follow buildit instructions (simple as copy/pasting them line by line to your terminal). The only thing you'll need to check in here is which Python Framework you want to install this package to, it can be changed in command:\n",
    "\n",
    "PYTHON_INCLUDE=/System/Library/Frameworks/Python.framework/Versions/2.3/include/python2.3/\n",
    "\n",
    "Include your directory after \"PYTHON_INCLUDE=\"\". Now we are all set and could use AIS Parser just by typing \"import aisparser\" ito our python script."
   ]
  },
  {
   "cell_type": "markdown",
   "metadata": {
    "colab_type": "text",
    "id": "0aa7Yiy9W3UK"
   },
   "source": [
    "### Runme.py"
   ]
  },
  {
   "cell_type": "markdown",
   "metadata": {
    "colab_type": "text",
    "id": "vWxDwcMXWV7m"
   },
   "source": [
    "Below is the block of script to decode sample data. We only inlcude part for one message (message #5) to give idea of how parser works. We can access all bits of information from other messages in a similar way."
   ]
  },
  {
   "cell_type": "code",
   "execution_count": 0,
   "metadata": {
    "colab": {
     "autoexec": {
      "startup": false,
      "wait_interval": 0
     }
    },
    "colab_type": "code",
    "collapsed": true,
    "id": "JkMfqkt9VqfK"
   },
   "outputs": [],
   "source": [
    "# Import aisparser library.\n",
    "import aisparser\n",
    "#Open Raw data sample file and append each line into a list.\n",
    "fhand = open('nmea-sample.txt', 'r')\n",
    "s = list()\n",
    "for line in fhand:\n",
    "    s.append(line.rstrip())\n",
    "\n",
    "ais_state = aisparser.ais_state()\n",
    "#Read eachi line in created list and parse it into messages.\n",
    "for p in s:\n",
    "    result = aisparser.assemble_vdm(ais_state, p)\n",
    "    if (result == 0):\n",
    "        ais_state.msgid = aisparser.get_6bit(ais_state.six_state, 6)\n",
    "#Message 5 can provide us information about vessel and journey.\n",
    "        if ais_state.msgid == 5:\n",
    "            msg = aisparser.aismsg_5()\n",
    "            aisparser.parse_ais_5(ais_state, msg)\n",
    "\n",
    "            print(\"mmsi       : %d\" % (msg.userid))\n",
    "            print(\"name       : %s\" % (msg.name))\n",
    "            print(\"imo        : %s\" % (msg.imo))\n",
    "            print(\"callsign   : %s\" % (msg.callsign))\n",
    "            print(\"vesseltype : %s\" % (msg.ship_type))\n",
    "            print(\"length     : %s\" % (msg.dim_port))\n",
    "            print(\"width      : %s\" % (msg.dim_starboard))\n",
    "            print(\"draught    : %s\" % (msg.draught))\n",
    "            print(\"destination: %s\" % (msg.dest))\n",
    "            "
   ]
  },
  {
   "cell_type": "markdown",
   "metadata": {
    "colab_type": "text",
    "id": "A9sHYSP9bVzV"
   },
   "source": [
    "### Aisparser.py"
   ]
  },
  {
   "cell_type": "markdown",
   "metadata": {
    "colab_type": "text",
    "id": "HumcZMT3ZdSA"
   },
   "source": [
    "If we will look at aisparser.py script included in the git, we can see what parts of message we can retrieve. Below is the part of the class for message #3, which is message holding information about vessel position. Please note that it's onlt the part of the code, full script you can find under aisparser.py from git."
   ]
  },
  {
   "cell_type": "code",
   "execution_count": 0,
   "metadata": {
    "colab": {
     "autoexec": {
      "startup": false,
      "wait_interval": 0
     }
    },
    "colab_type": "code",
    "collapsed": true,
    "id": "QQu0CxZEaETY"
   },
   "outputs": [],
   "source": [
    "class aismsg_3(_object):\n",
    "    __swig_setmethods__ = {}\n",
    "    __setattr__ = lambda self, name, value: _swig_setattr(self, aismsg_3, name, value)\n",
    "    __swig_getmethods__ = {}\n",
    "    __getattr__ = lambda self, name: _swig_getattr(self, aismsg_3, name)\n",
    "    __repr__ = _swig_repr\n",
    "    __swig_setmethods__[\"msgid\"] = _aisparser.aismsg_3_msgid_set\n",
    "    __swig_getmethods__[\"msgid\"] = _aisparser.aismsg_3_msgid_get\n",
    "    if _newclass:msgid = _swig_property(_aisparser.aismsg_3_msgid_get, _aisparser.aismsg_3_msgid_set)\n",
    "    __swig_setmethods__[\"repeat\"] = _aisparser.aismsg_3_repeat_set\n",
    "    __swig_getmethods__[\"repeat\"] = _aisparser.aismsg_3_repeat_get\n",
    "    if _newclass:repeat = _swig_property(_aisparser.aismsg_3_repeat_get, _aisparser.aismsg_3_repeat_set)\n",
    "      #Userid is MMSI code.\n",
    "    __swig_setmethods__[\"userid\"] = _aisparser.aismsg_3_userid_set\n",
    "    __swig_getmethods__[\"userid\"] = _aisparser.aismsg_3_userid_get\n",
    "    if _newclass:userid = _swig_property(_aisparser.aismsg_3_userid_get, _aisparser.aismsg_3_userid_set)\n",
    "      #Navigation status - under way using engine, moored, etc.\n",
    "    __swig_setmethods__[\"nav_status\"] = _aisparser.aismsg_3_nav_status_set\n",
    "    __swig_getmethods__[\"nav_status\"] = _aisparser.aismsg_3_nav_status_get\n",
    "    if _newclass:nav_status = _swig_property(_aisparser.aismsg_3_nav_status_get, _aisparser.aismsg_3_nav_status_set)\n",
    "      #Sog - speed over the ground\n",
    "    __swig_setmethods__[\"sog\"] = _aisparser.aismsg_3_sog_set\n",
    "    __swig_getmethods__[\"sog\"] = _aisparser.aismsg_3_sog_get\n",
    "    if _newclass:sog = _swig_property(_aisparser.aismsg_3_sog_get, _aisparser.aismsg_3_sog_set)\n",
    "      #Coordinates\n",
    "    __swig_setmethods__[\"longitude\"] = _aisparser.aismsg_3_longitude_set\n",
    "    __swig_getmethods__[\"longitude\"] = _aisparser.aismsg_3_longitude_get\n",
    "    if _newclass:longitude = _swig_property(_aisparser.aismsg_3_longitude_get, _aisparser.aismsg_3_longitude_set)\n",
    "    __swig_setmethods__[\"latitude\"] = _aisparser.aismsg_3_latitude_set\n",
    "    __swig_getmethods__[\"latitude\"] = _aisparser.aismsg_3_latitude_get\n"
   ]
  },
  {
   "cell_type": "markdown",
   "metadata": {
    "colab_type": "text",
    "id": "I79W9O-Va-RX"
   },
   "source": [
    "Using AIS Parser SDK we can come up with a .csv format that is used by Marine Cadastre to create a dataset, which we will use in the next section. "
   ]
  },
  {
   "cell_type": "markdown",
   "metadata": {
    "colab_type": "text",
    "id": "SiR0G0jsA0o_"
   },
   "source": [
    "## Marine Cadastre Dataset"
   ]
  },
  {
   "cell_type": "markdown",
   "metadata": {
    "colab_type": "text",
    "id": "lERucKOxA0pA"
   },
   "source": [
    "Now we'll load data from MarineCadastre and perform quick analysis. This data is from one parcitucal zone - UTM Zone 15 for the period from January till December 2015. UTM Zone 15 is of particular interest as it covers Texas area and LOOP (The Louisiana Offshore Oil Port). \n",
    "\n",
    "From WikiPedia: \"LOOP is a deepwater port in the Gulf of Mexico 29 kilometers (18 nautical miles) off the coast of Louisiana near the town of Port Fourchon. LOOP provides tanker offloading and temporary storage services for crude oil transported on some of the largest tankers in the world. Most tankers offloading at LOOP are too large for U.S. inland ports. LOOP handles 13 percent of the nation's foreign oil, about 1.2 million barrels (190,000 m3) a day, and connects by pipeline to 50 percent of the U.S. refining capability.\" \n",
    "\n",
    "If we want to see how oil crisis affected transport of commodities, that's the place of interest.\n",
    "\n",
    "We'll use this particular dataset for two reasons:\n",
    "* Dataset for 2015 contains more information that might be useful to us. For all previous years ship name, call sign fields have been removed, and the MMSI (Maritime Mobile Service Identity) field has been encrypted at the request of the U.S. Coast Guard.\n",
    "* Beginning of the 2015 year was a critical point for oil and gas industry with oil prices reaching lowest point, dropping from 108 dollars per barrel at June, 2014 to 47 dollars per barrel in January, 2015. We will see if we can catch this change in oil and gas marker in our observations.\n",
    "\n"
   ]
  },
  {
   "cell_type": "markdown",
   "metadata": {
    "colab_type": "text",
    "id": "o7wCSBaZfS92"
   },
   "source": [
    "### Create SQLite DB"
   ]
  },
  {
   "cell_type": "markdown",
   "metadata": {
    "colab_type": "text",
    "id": "xqdHGKWEcGz3"
   },
   "source": [
    "As Marine Cadastre dataset is a huge .csv file (about 9 Gb for one month of data), we'll load it to SQLite database, then we can easlity work with this data without running out of memory issues. Code below creates simple SQLite DB. "
   ]
  },
  {
   "cell_type": "code",
   "execution_count": 0,
   "metadata": {
    "colab": {
     "autoexec": {
      "startup": false,
      "wait_interval": 0
     }
    },
    "colab_type": "code",
    "collapsed": true,
    "id": "bnuUJ9P7clUh"
   },
   "outputs": [],
   "source": [
    "import sqlite3\n",
    "\n",
    "def create_connection(db_file):\n",
    "    try:\n",
    "        conn = sqlite3.connect(db_file)\n",
    "    except:\n",
    "        print('Error')\n",
    "    finally:\n",
    "        conn.close()\n",
    "\n",
    "if __name__ == '__main__':\n",
    "    create_connection('/Users/bobonaleksei/Downloads/AIS Project/AIS.db')"
   ]
  },
  {
   "cell_type": "markdown",
   "metadata": {
    "colab_type": "text",
    "id": "FAGpL8jufY8c"
   },
   "source": [
    "### Load CVS to SQLite"
   ]
  },
  {
   "cell_type": "markdown",
   "metadata": {
    "colab_type": "text",
    "id": "wgI_1OEIczcb"
   },
   "source": [
    "Then we will load .csv file to newly created DB, using chunks option within pandas framework to load .csv piece by piece."
   ]
  },
  {
   "cell_type": "code",
   "execution_count": 0,
   "metadata": {
    "colab": {
     "autoexec": {
      "startup": false,
      "wait_interval": 0
     }
    },
    "colab_type": "code",
    "collapsed": true,
    "id": "W-BpRnsGcwGz"
   },
   "outputs": [],
   "source": [
    "import pandas as pd\n",
    "from sqlalchemy import create_engine\n",
    "filename = '/Users/bobonaleksei/Downloads/AIS Project/AIS_ASCII_by_UTM_Month/2015/AIS_2015_01_Zone15.csv'\n",
    "#Display first five rows of csv file.\n",
    "print(pd.read_csv(filename, nrows=5))\n",
    "#Create a database engine using sqlalchemy (basically connection to DB).\n",
    "csv_database = create_engine('sqlite:////Users/bobonaleksei/Downloads/AIS Project/AIS.db')\n",
    "#Select chunksize which will be sufficient enough but won't run you out of memory.\n",
    "chunksize = 100000\n",
    "#Simple iterators to create with indexes\n",
    "i = 0\n",
    "j = 1\n",
    "for df in pd.read_csv(filename, chunksize=chunksize, iterator=True):\n",
    "  #We will need to remove all the spaces from column names, before creating a table in DB.\n",
    "    df = df.rename(columns={c: c.replace(' ', '') for c in df.columns})\n",
    "    df.index += j\n",
    "    i += 1\n",
    "    #Creates new table and appends data to it.\n",
    "    df.to_sql('UTM15_01_2015', csv_database, if_exists='append')\n",
    "    #Uses last index of the dataframe and adds 1 to start with a new chunk of data. \n",
    "    j = df.index[-1] + 1"
   ]
  },
  {
   "cell_type": "markdown",
   "metadata": {
    "colab_type": "text",
    "id": "xkFf1id-fc3-"
   },
   "source": [
    "### Query tanker related data from DB and write it to CSV."
   ]
  },
  {
   "cell_type": "markdown",
   "metadata": {
    "colab_type": "text",
    "id": "jdqHKkMReH34"
   },
   "source": [
    "After we loaded everything in SQLite, we can query it to extract only rows which have tanker \"VesselType\" - that are coded values in range from 80 to 89. "
   ]
  },
  {
   "cell_type": "code",
   "execution_count": 0,
   "metadata": {
    "colab": {
     "autoexec": {
      "startup": false,
      "wait_interval": 0
     }
    },
    "colab_type": "code",
    "collapsed": true,
    "id": "ijPBtoW0ebN_"
   },
   "outputs": [],
   "source": [
    "import pandas as pd\n",
    "from sqlalchemy import create_engine\n",
    "#Use asqalchemy engine to create a connection\n",
    "csv_db = create_engine('sqlite:////Users/bobonaleksei/Downloads/AIS Project/AIS.db')\n",
    "#Query table to extract all rows with VesselType in range from 80-89.\n",
    "query = 'SELECT * FROM UTM15_01_2015 WHERE VesselType IN (\"80.0\",\"81.0\",\"82.0\",\"83.0\",\"84.0\",\"85.0\",\"86.0\",\"87.0\",\"88.0\",\"89.0\")'\n",
    "#Pass the query result to dataframe\n",
    "df = pd.read_sql_query(query,csv_db)\n",
    "#Write dataframe to .csv file\n",
    "df.to_csv('/Users/bobonaleksei/Downloads/AIS Project/2015_cargo_all.csv', sep='\\t')"
   ]
  },
  {
   "cell_type": "markdown",
   "metadata": {
    "colab_type": "text",
    "id": "n6jkRZ5-fjdY"
   },
   "source": [
    "### Tanker data - Quick look"
   ]
  },
  {
   "cell_type": "markdown",
   "metadata": {
    "colab_type": "text",
    "id": "iVAtgotsfHsG"
   },
   "source": [
    "Now that we have just part of the whole dataset covering only tankers within our zone of interest, we can start with quick data analysis."
   ]
  },
  {
   "cell_type": "markdown",
   "metadata": {
    "colab_type": "text",
    "id": "mcRIpT3rnRxV"
   },
   "source": [
    "What we'll need is to import necessary libraries:\n",
    "* Pandas - to work with nicely formated tabular data \n",
    "* Numpy - to work with arrays\n",
    "* Matplotlib / seaborn - to create plots and vizualize data\n",
    "\n"
   ]
  },
  {
   "cell_type": "code",
   "execution_count": 1,
   "metadata": {
    "colab": {
     "autoexec": {
      "startup": false,
      "wait_interval": 0
     }
    },
    "colab_type": "code",
    "collapsed": true,
    "id": "Gd9_edlUzBZe"
   },
   "outputs": [],
   "source": [
    "import pandas as pd\n",
    "import numpy as np\n",
    "import matplotlib.pyplot as plt\n",
    "import seaborn as sns"
   ]
  },
  {
   "cell_type": "markdown",
   "metadata": {
    "colab_type": "text",
    "id": "9r8fDqyyA0pG"
   },
   "source": [
    "Jupyter notebook magic command, it allows us to generate plots directly within this notebook. "
   ]
  },
  {
   "cell_type": "code",
   "execution_count": 2,
   "metadata": {
    "colab": {
     "autoexec": {
      "startup": false,
      "wait_interval": 0
     }
    },
    "colab_type": "code",
    "collapsed": true,
    "id": "Abr68WqPzBZk"
   },
   "outputs": [],
   "source": [
    "%matplotlib inline"
   ]
  },
  {
   "cell_type": "markdown",
   "metadata": {
    "colab_type": "text",
    "id": "xBEVFdS3A0pK"
   },
   "source": [
    "Load .csv file to \"tanker_data\" DataFrame. We'll use tab separator to split data into columns."
   ]
  },
  {
   "cell_type": "code",
   "execution_count": 3,
   "metadata": {
    "colab": {
     "autoexec": {
      "startup": false,
      "wait_interval": 0
     }
    },
    "colab_type": "code",
    "collapsed": true,
    "id": "87Ei-3S8zBZo"
   },
   "outputs": [],
   "source": [
    "tanker_data = pd.read_csv('/Users/bobonaleksei/PycharmProjects/AIS/2015_01_tanker_static.csv', sep='\\t')"
   ]
  },
  {
   "cell_type": "markdown",
   "metadata": {
    "colab_type": "text",
    "id": "LwLckl67A0pP"
   },
   "source": [
    "Let's have a look how many rows and columns we have in our dataframe."
   ]
  },
  {
   "cell_type": "code",
   "execution_count": 4,
   "metadata": {
    "colab": {
     "autoexec": {
      "startup": false,
      "wait_interval": 0
     }
    },
    "colab_type": "code",
    "collapsed": false,
    "id": "00IxNGATzBZu",
    "outputId": "73136a6f-c658-4674-f0a2-cddfaac64f33"
   },
   "outputs": [
    {
     "data": {
      "text/plain": [
       "(334022, 18)"
      ]
     },
     "execution_count": 4,
     "metadata": {},
     "output_type": "execute_result"
    }
   ],
   "source": [
    "tanker_data.shape"
   ]
  },
  {
   "cell_type": "markdown",
   "metadata": {
    "colab_type": "text",
    "id": "xVtniGO9A0pV"
   },
   "source": [
    "Display first 5 rows, which include our header."
   ]
  },
  {
   "cell_type": "code",
   "execution_count": 5,
   "metadata": {
    "colab": {
     "autoexec": {
      "startup": false,
      "wait_interval": 0
     }
    },
    "colab_type": "code",
    "collapsed": false,
    "id": "3s7nN2BSzBZ5",
    "outputId": "87a88065-fbb4-492a-e414-89a19a18fe7d"
   },
   "outputs": [
    {
     "data": {
      "text/html": [
       "<div>\n",
       "<table border=\"1\" class=\"dataframe\">\n",
       "  <thead>\n",
       "    <tr style=\"text-align: right;\">\n",
       "      <th></th>\n",
       "      <th>Unnamed: 0</th>\n",
       "      <th>index</th>\n",
       "      <th>MMSI</th>\n",
       "      <th>BaseDateTime</th>\n",
       "      <th>LAT</th>\n",
       "      <th>LON</th>\n",
       "      <th>SOG</th>\n",
       "      <th>COG</th>\n",
       "      <th>Heading</th>\n",
       "      <th>VesselName</th>\n",
       "      <th>IMO</th>\n",
       "      <th>CallSign</th>\n",
       "      <th>VesselType</th>\n",
       "      <th>Status</th>\n",
       "      <th>Length</th>\n",
       "      <th>Width</th>\n",
       "      <th>Draft</th>\n",
       "      <th>Cargo</th>\n",
       "    </tr>\n",
       "  </thead>\n",
       "  <tbody>\n",
       "    <tr>\n",
       "      <th>0</th>\n",
       "      <td>0</td>\n",
       "      <td>116</td>\n",
       "      <td>636013447</td>\n",
       "      <td>2015-01-01T00:00:52</td>\n",
       "      <td>28.55866</td>\n",
       "      <td>-94.25811</td>\n",
       "      <td>0.1</td>\n",
       "      <td>-110.6</td>\n",
       "      <td>63.0</td>\n",
       "      <td>MANIFA</td>\n",
       "      <td>IMO9384198</td>\n",
       "      <td>A8NA7</td>\n",
       "      <td>89.0</td>\n",
       "      <td>at anchor</td>\n",
       "      <td>333.0</td>\n",
       "      <td>60.0</td>\n",
       "      <td>11.4</td>\n",
       "      <td>89.0</td>\n",
       "    </tr>\n",
       "    <tr>\n",
       "      <th>1</th>\n",
       "      <td>1</td>\n",
       "      <td>180</td>\n",
       "      <td>311047100</td>\n",
       "      <td>2015-01-01T00:01:07</td>\n",
       "      <td>29.70042</td>\n",
       "      <td>-95.00295</td>\n",
       "      <td>11.1</td>\n",
       "      <td>-129.6</td>\n",
       "      <td>276.0</td>\n",
       "      <td>NORDIC AKI</td>\n",
       "      <td>IMO9505974</td>\n",
       "      <td>C6YV9</td>\n",
       "      <td>89.0</td>\n",
       "      <td>under way using engine</td>\n",
       "      <td>134.0</td>\n",
       "      <td>22.0</td>\n",
       "      <td>7.3</td>\n",
       "      <td>89.0</td>\n",
       "    </tr>\n",
       "    <tr>\n",
       "      <th>2</th>\n",
       "      <td>2</td>\n",
       "      <td>687</td>\n",
       "      <td>375439000</td>\n",
       "      <td>2015-01-01T00:00:13</td>\n",
       "      <td>29.17793</td>\n",
       "      <td>-94.65495</td>\n",
       "      <td>0.1</td>\n",
       "      <td>99.0</td>\n",
       "      <td>60.0</td>\n",
       "      <td>MAPLE 3</td>\n",
       "      <td>IMO9034690</td>\n",
       "      <td>J8B3453</td>\n",
       "      <td>84.0</td>\n",
       "      <td>at anchor</td>\n",
       "      <td>160.0</td>\n",
       "      <td>26.0</td>\n",
       "      <td>9.3</td>\n",
       "      <td>84.0</td>\n",
       "    </tr>\n",
       "    <tr>\n",
       "      <th>3</th>\n",
       "      <td>3</td>\n",
       "      <td>692</td>\n",
       "      <td>229837000</td>\n",
       "      <td>2015-01-01T00:00:06</td>\n",
       "      <td>29.60868</td>\n",
       "      <td>-93.80883</td>\n",
       "      <td>8.9</td>\n",
       "      <td>-74.4</td>\n",
       "      <td>339.0</td>\n",
       "      <td>SYN ANTARES</td>\n",
       "      <td>IMO9512848</td>\n",
       "      <td>9HA3650</td>\n",
       "      <td>80.0</td>\n",
       "      <td>under way using engine</td>\n",
       "      <td>123.0</td>\n",
       "      <td>19.0</td>\n",
       "      <td>5.6</td>\n",
       "      <td>80.0</td>\n",
       "    </tr>\n",
       "    <tr>\n",
       "      <th>4</th>\n",
       "      <td>4</td>\n",
       "      <td>901</td>\n",
       "      <td>565721000</td>\n",
       "      <td>2015-01-01T00:02:03</td>\n",
       "      <td>29.73733</td>\n",
       "      <td>-95.12913</td>\n",
       "      <td>0.0</td>\n",
       "      <td>147.0</td>\n",
       "      <td>183.0</td>\n",
       "      <td>MT CHEMBULK ULSAN</td>\n",
       "      <td>IMO9294276</td>\n",
       "      <td>9VFA4</td>\n",
       "      <td>80.0</td>\n",
       "      <td>moored</td>\n",
       "      <td>141.0</td>\n",
       "      <td>24.0</td>\n",
       "      <td>10.3</td>\n",
       "      <td>80.0</td>\n",
       "    </tr>\n",
       "  </tbody>\n",
       "</table>\n",
       "</div>"
      ],
      "text/plain": [
       "   Unnamed: 0  index       MMSI         BaseDateTime       LAT       LON  \\\n",
       "0           0    116  636013447  2015-01-01T00:00:52  28.55866 -94.25811   \n",
       "1           1    180  311047100  2015-01-01T00:01:07  29.70042 -95.00295   \n",
       "2           2    687  375439000  2015-01-01T00:00:13  29.17793 -94.65495   \n",
       "3           3    692  229837000  2015-01-01T00:00:06  29.60868 -93.80883   \n",
       "4           4    901  565721000  2015-01-01T00:02:03  29.73733 -95.12913   \n",
       "\n",
       "    SOG    COG  Heading         VesselName         IMO CallSign  VesselType  \\\n",
       "0   0.1 -110.6     63.0             MANIFA  IMO9384198    A8NA7        89.0   \n",
       "1  11.1 -129.6    276.0         NORDIC AKI  IMO9505974    C6YV9        89.0   \n",
       "2   0.1   99.0     60.0            MAPLE 3  IMO9034690  J8B3453        84.0   \n",
       "3   8.9  -74.4    339.0        SYN ANTARES  IMO9512848  9HA3650        80.0   \n",
       "4   0.0  147.0    183.0  MT CHEMBULK ULSAN  IMO9294276    9VFA4        80.0   \n",
       "\n",
       "                   Status  Length  Width  Draft  Cargo  \n",
       "0               at anchor   333.0   60.0   11.4   89.0  \n",
       "1  under way using engine   134.0   22.0    7.3   89.0  \n",
       "2               at anchor   160.0   26.0    9.3   84.0  \n",
       "3  under way using engine   123.0   19.0    5.6   80.0  \n",
       "4                  moored   141.0   24.0   10.3   80.0  "
      ]
     },
     "execution_count": 5,
     "metadata": {},
     "output_type": "execute_result"
    }
   ],
   "source": [
    "tanker_data.head()"
   ]
  },
  {
   "cell_type": "markdown",
   "metadata": {
    "colab_type": "text",
    "id": "wvT4eTG-A0pZ"
   },
   "source": [
    "\"Unnamed\" column holds an index that is of no interest to us, let's drop this column. \"Axis=1\" specifies that \"Unnamed\" is a column and not a row, while \"inplace=True\" lets us to make changes in existing dataframe without creating a copy. "
   ]
  },
  {
   "cell_type": "code",
   "execution_count": 6,
   "metadata": {
    "colab": {
     "autoexec": {
      "startup": false,
      "wait_interval": 0
     }
    },
    "colab_type": "code",
    "collapsed": true,
    "id": "hRvvkFoJzBaB"
   },
   "outputs": [],
   "source": [
    "tanker_data.drop('Unnamed: 0', axis=1, inplace=True)"
   ]
  },
  {
   "cell_type": "markdown",
   "metadata": {
    "colab_type": "text",
    "id": "anlXCZSkgOxV"
   },
   "source": [
    "### Change column datatypes"
   ]
  },
  {
   "cell_type": "markdown",
   "metadata": {
    "colab_type": "text",
    "id": "KdpXCwzmA0pc"
   },
   "source": [
    "Below is the list of our colums with their corresponding datatypes. We can see that BaseDateTime is an object, to work properly with dates we need to convert it to date type. Cargo and Vessel type are floats, we can covert them to integers. "
   ]
  },
  {
   "cell_type": "markdown",
   "metadata": {
    "colab_type": "text",
    "id": "7QwwtoTKA0pd"
   },
   "source": [
    "The most important column to convert is IMO. Values in this column starts with three letters 'IMO' followed by 7 digits assigned to sea-going merchant ships under the International Convention for the Safety of Life at Sea (SOLAS). For ships, the IMO number remains linked to the hull for its lifetime, regardless of a change in name, flag, or owner. Therefore knowing the IMO, we can surely identify the vessel."
   ]
  },
  {
   "cell_type": "markdown",
   "metadata": {
    "colab_type": "text",
    "id": "lKQHm5IZA0pd"
   },
   "source": [
    "The validity of IMO numbers can be verified by its check digit. This is done by multiplying each digit with its position from right to left, with exception from its first rightmost digit. This is called the check digit. The results of these multiplications shall be summed, and the last digit in that sum shall correspond to the check digit in the IMO number. So for the IMO number 9652806, 9x7+6x6+5x5+2x4+8x3+0x2 = 156, the rightmost digit of this sum is equal to the rightmost digit of the IMO number, and thus the IMO number is valid."
   ]
  },
  {
   "cell_type": "markdown",
   "metadata": {
    "colab_type": "text",
    "id": "jrEdl85qA0pe"
   },
   "source": [
    "So to perform the validation check on IMO number we need to get rid of \"IMO\" letters and convert the rest to interger type. Trying to perfrom any calculus on object type will give us traceback."
   ]
  },
  {
   "cell_type": "code",
   "execution_count": 7,
   "metadata": {
    "colab": {
     "autoexec": {
      "startup": false,
      "wait_interval": 0
     }
    },
    "colab_type": "code",
    "collapsed": false,
    "id": "72xwiHCfzBaH",
    "outputId": "1c0f9db7-82a3-4245-adf9-760f66a32e8c"
   },
   "outputs": [
    {
     "data": {
      "text/plain": [
       "index             int64\n",
       "MMSI              int64\n",
       "BaseDateTime     object\n",
       "LAT             float64\n",
       "LON             float64\n",
       "SOG             float64\n",
       "COG             float64\n",
       "Heading         float64\n",
       "VesselName       object\n",
       "IMO              object\n",
       "CallSign         object\n",
       "VesselType      float64\n",
       "Status           object\n",
       "Length          float64\n",
       "Width           float64\n",
       "Draft           float64\n",
       "Cargo           float64\n",
       "dtype: object"
      ]
     },
     "execution_count": 7,
     "metadata": {},
     "output_type": "execute_result"
    }
   ],
   "source": [
    "tanker_data.dtypes"
   ]
  },
  {
   "cell_type": "markdown",
   "metadata": {
    "colab_type": "text",
    "id": "0ZIhnRBIA0pi"
   },
   "source": [
    "Change BaseDateTime to data type."
   ]
  },
  {
   "cell_type": "code",
   "execution_count": 8,
   "metadata": {
    "colab": {
     "autoexec": {
      "startup": false,
      "wait_interval": 0
     }
    },
    "colab_type": "code",
    "collapsed": true,
    "id": "M0uqxsXtzBaO"
   },
   "outputs": [],
   "source": [
    "tanker_data['BaseDateTime'] = pd.to_datetime(tanker_data['BaseDateTime'])"
   ]
  },
  {
   "cell_type": "markdown",
   "metadata": {
    "colab_type": "text",
    "id": "NCzsPb0YA0pl"
   },
   "source": [
    "Change Cargo and VesselType to integer"
   ]
  },
  {
   "cell_type": "code",
   "execution_count": 9,
   "metadata": {
    "colab": {
     "autoexec": {
      "startup": false,
      "wait_interval": 0
     }
    },
    "colab_type": "code",
    "collapsed": true,
    "id": "kC_OjFIgzBaT"
   },
   "outputs": [],
   "source": [
    "tanker_data['VesselType'] = tanker_data['VesselType'].astype(int)"
   ]
  },
  {
   "cell_type": "code",
   "execution_count": 10,
   "metadata": {
    "colab": {
     "autoexec": {
      "startup": false,
      "wait_interval": 0
     }
    },
    "colab_type": "code",
    "collapsed": true,
    "id": "6RqPDxWAzBaY"
   },
   "outputs": [],
   "source": [
    "tanker_data['Cargo'] = tanker_data['Cargo'].astype(int)"
   ]
  },
  {
   "cell_type": "markdown",
   "metadata": {
    "colab_type": "text",
    "id": "0n9fC6bKA0pq"
   },
   "source": [
    "Apply method for pandas is very powerful thing. You can use your own functions and apply them to whole column (which are called Series in pandas). We'll use \"apply\" to slice every value and leave only last 7 digits. So IMO9652806 will give us only 9652806, on which we can perfom math operation after converting it to integer."
   ]
  },
  {
   "cell_type": "code",
   "execution_count": 11,
   "metadata": {
    "colab": {
     "autoexec": {
      "startup": false,
      "wait_interval": 0
     }
    },
    "colab_type": "code",
    "collapsed": true,
    "id": "l0VSUiCJzBaa"
   },
   "outputs": [],
   "source": [
    "tanker_data['IMO'] = tanker_data['IMO'].apply(lambda x: x[3:])\n",
    "tanker_data['IMO'] = tanker_data['IMO'].astype(int)"
   ]
  },
  {
   "cell_type": "markdown",
   "metadata": {
    "colab_type": "text",
    "id": "4s81dgQJA0pt"
   },
   "source": [
    "Check if conversion worked, all good."
   ]
  },
  {
   "cell_type": "code",
   "execution_count": 12,
   "metadata": {
    "colab": {
     "autoexec": {
      "startup": false,
      "wait_interval": 0
     }
    },
    "colab_type": "code",
    "collapsed": false,
    "id": "X0sA56iyA0pu",
    "outputId": "0562d602-b38b-4081-bdde-fcac2fde0d25"
   },
   "outputs": [
    {
     "data": {
      "text/plain": [
       "index                    int64\n",
       "MMSI                     int64\n",
       "BaseDateTime    datetime64[ns]\n",
       "LAT                    float64\n",
       "LON                    float64\n",
       "SOG                    float64\n",
       "COG                    float64\n",
       "Heading                float64\n",
       "VesselName              object\n",
       "IMO                      int64\n",
       "CallSign                object\n",
       "VesselType               int64\n",
       "Status                  object\n",
       "Length                 float64\n",
       "Width                  float64\n",
       "Draft                  float64\n",
       "Cargo                    int64\n",
       "dtype: object"
      ]
     },
     "execution_count": 12,
     "metadata": {},
     "output_type": "execute_result"
    }
   ],
   "source": [
    "tanker_data.dtypes"
   ]
  },
  {
   "cell_type": "markdown",
   "metadata": {
    "colab_type": "text",
    "id": "fp9bOZQTgWeD"
   },
   "source": [
    "### Unique and Null values"
   ]
  },
  {
   "cell_type": "markdown",
   "metadata": {
    "colab_type": "text",
    "id": "zkZdzV0uA0pw"
   },
   "source": [
    "Value_counts gives us idea how many distinct values we have in \"VesselType\" column. 84 is interesting code for us, as it stands for LNG tanker, LPG tanker or Gas carrier."
   ]
  },
  {
   "cell_type": "code",
   "execution_count": 13,
   "metadata": {
    "colab": {
     "autoexec": {
      "startup": false,
      "wait_interval": 0
     }
    },
    "colab_type": "code",
    "collapsed": false,
    "id": "KDXfZcOkzBad",
    "outputId": "e4eaa559-2d1b-4ddb-8d21-39578bcc5064"
   },
   "outputs": [
    {
     "data": {
      "text/plain": [
       "80    144475\n",
       "89     99222\n",
       "82     37268\n",
       "81     33249\n",
       "84     15340\n",
       "86      4468\n",
       "Name: VesselType, dtype: int64"
      ]
     },
     "execution_count": 13,
     "metadata": {},
     "output_type": "execute_result"
    }
   ],
   "source": [
    "tanker_data['VesselType'].value_counts()"
   ]
  },
  {
   "cell_type": "markdown",
   "metadata": {
    "colab_type": "text",
    "id": "uv9f-VvaA0p0"
   },
   "source": [
    "We will also check if any of the values are Null per column. We are lucky to have this dataset from Marine Cadastre as data was enriched already and there is no null values."
   ]
  },
  {
   "cell_type": "code",
   "execution_count": 14,
   "metadata": {
    "colab": {
     "autoexec": {
      "startup": false,
      "wait_interval": 0
     }
    },
    "colab_type": "code",
    "collapsed": false,
    "id": "Rm5GQV8mzBau",
    "outputId": "665f7d04-ff89-4d9d-bb8f-976255c1db67"
   },
   "outputs": [
    {
     "data": {
      "text/plain": [
       "index           False\n",
       "MMSI            False\n",
       "BaseDateTime    False\n",
       "LAT             False\n",
       "LON             False\n",
       "SOG             False\n",
       "COG             False\n",
       "Heading         False\n",
       "VesselName      False\n",
       "IMO             False\n",
       "CallSign        False\n",
       "VesselType      False\n",
       "Status          False\n",
       "Length          False\n",
       "Width           False\n",
       "Draft           False\n",
       "Cargo           False\n",
       "dtype: bool"
      ]
     },
     "execution_count": 14,
     "metadata": {},
     "output_type": "execute_result"
    }
   ],
   "source": [
    "tanker_data.isnull().any()"
   ]
  },
  {
   "cell_type": "markdown",
   "metadata": {
    "colab_type": "text",
    "id": "PUFCz3SCA0p2"
   },
   "source": [
    "Check number of unique values in MMSI, VesselName and IMO columns. As we're looking at data from just one year, it would be logical to see that one IMO corresponds to one MMSI and one VesselName. Below is just a count, we'll have a proper check of corresponding values later."
   ]
  },
  {
   "cell_type": "code",
   "execution_count": 15,
   "metadata": {
    "colab": {
     "autoexec": {
      "startup": false,
      "wait_interval": 0
     }
    },
    "colab_type": "code",
    "collapsed": false,
    "id": "9-FBoWBjzBa5",
    "outputId": "87b2f598-5b87-4102-fb5e-559672cd6240"
   },
   "outputs": [
    {
     "data": {
      "text/plain": [
       "80"
      ]
     },
     "execution_count": 15,
     "metadata": {},
     "output_type": "execute_result"
    }
   ],
   "source": [
    "tanker_data.MMSI.nunique()"
   ]
  },
  {
   "cell_type": "code",
   "execution_count": 16,
   "metadata": {
    "colab": {
     "autoexec": {
      "startup": false,
      "wait_interval": 0
     }
    },
    "colab_type": "code",
    "collapsed": false,
    "id": "x_uzlHr0zBa9",
    "outputId": "ec7024de-1c2d-4d46-9804-4121a3655b9a"
   },
   "outputs": [
    {
     "data": {
      "text/plain": [
       "80"
      ]
     },
     "execution_count": 16,
     "metadata": {},
     "output_type": "execute_result"
    }
   ],
   "source": [
    "tanker_data.VesselName.nunique()"
   ]
  },
  {
   "cell_type": "code",
   "execution_count": 17,
   "metadata": {
    "colab": {
     "autoexec": {
      "startup": false,
      "wait_interval": 0
     }
    },
    "colab_type": "code",
    "collapsed": false,
    "id": "zsYjU18zzBbB",
    "outputId": "adae78b8-0714-4051-fa34-9fcf230d85e8"
   },
   "outputs": [
    {
     "data": {
      "text/plain": [
       "80"
      ]
     },
     "execution_count": 17,
     "metadata": {},
     "output_type": "execute_result"
    }
   ],
   "source": [
    "tanker_data.IMO.nunique()"
   ]
  },
  {
   "cell_type": "markdown",
   "metadata": {
    "colab_type": "text",
    "id": "7Bu99LjBgcpA"
   },
   "source": [
    "### Erroneous vessel dimensions"
   ]
  },
  {
   "cell_type": "markdown",
   "metadata": {
    "colab_type": "text",
    "id": "QbW2B3buzBbE"
   },
   "source": [
    "Let's create a scatter plot with Length on x axis and Breath on y axis. As we can see from the scatter plot below there are some points on far left and far right side on the Vessel Length axis. The rest of the vessels are grouped close to each other with clear difference between two classes. \n",
    "Based on VesselTracker vessels on the left of 200m length mark belong to \"Chemical Oil Products Tanker\", so that tankers possibly transport by products of oil. Vessels above 200m in length belong to 'Crude Oil Tanker' with particular group at 330m in length - which belong to VLCC."
   ]
  },
  {
   "cell_type": "code",
   "execution_count": 18,
   "metadata": {
    "colab": {
     "autoexec": {
      "startup": false,
      "wait_interval": 0
     }
    },
    "colab_type": "code",
    "collapsed": false,
    "id": "4L5UJNI4zBbF",
    "outputId": "c8acb446-d936-4daf-c24e-3ae78599dfe4"
   },
   "outputs": [
    {
     "data": {
      "image/png": "[encoded data removed]",
      "text/plain": [
       "<matplotlib.figure.Figure at 0x11687d210>"
      ]
     },
     "metadata": {},
     "output_type": "display_data"
    }
   ],
   "source": [
    "plt.scatter(tanker_data['Length'], tanker_data['Width'], data=tanker_data['VesselType'])\n",
    "plt.ylabel('Vessel Width, m')\n",
    "plt.xlabel('Vessel Length, m')\n",
    "plt.xlim((0,375))\n",
    "plt.ylim((0,70))\n",
    "plt.title('Length / Breadth Scatter Plot')\n",
    "plt.grid(True)"
   ]
  },
  {
   "cell_type": "markdown",
   "metadata": {
    "colab_type": "text",
    "id": "uNQzVfuyA0qD"
   },
   "source": [
    "From scatter plot we can see that there is an outlier(vessel with Width below 15m). Below is a corresponding part of dataframe for this vessel. After manual lookup at VesselTracker.com, we can identify vessel \"Roma Elie\" as an Offshore Tug Supply Ship. Wrong VesselType was probably entered by the crew. "
   ]
  },
  {
   "cell_type": "code",
   "execution_count": 19,
   "metadata": {
    "colab": {
     "autoexec": {
      "startup": false,
      "wait_interval": 0
     }
    },
    "colab_type": "code",
    "collapsed": false,
    "id": "O8KWwtsBzBbI",
    "outputId": "eceb41ee-db4d-43ed-f0c9-5d2094202db7"
   },
   "outputs": [
    {
     "data": {
      "text/html": [
       "<div>\n",
       "<table border=\"1\" class=\"dataframe\">\n",
       "  <thead>\n",
       "    <tr style=\"text-align: right;\">\n",
       "      <th></th>\n",
       "      <th>index</th>\n",
       "      <th>MMSI</th>\n",
       "      <th>BaseDateTime</th>\n",
       "      <th>LAT</th>\n",
       "      <th>LON</th>\n",
       "      <th>SOG</th>\n",
       "      <th>COG</th>\n",
       "      <th>Heading</th>\n",
       "      <th>VesselName</th>\n",
       "      <th>IMO</th>\n",
       "      <th>CallSign</th>\n",
       "      <th>VesselType</th>\n",
       "      <th>Status</th>\n",
       "      <th>Length</th>\n",
       "      <th>Width</th>\n",
       "      <th>Draft</th>\n",
       "      <th>Cargo</th>\n",
       "    </tr>\n",
       "  </thead>\n",
       "  <tbody>\n",
       "    <tr>\n",
       "      <th>149517</th>\n",
       "      <td>4976945523</td>\n",
       "      <td>368651926</td>\n",
       "      <td>2015-01-15 10:43:49</td>\n",
       "      <td>28.99371</td>\n",
       "      <td>-90.01105</td>\n",
       "      <td>10.8</td>\n",
       "      <td>-130.7</td>\n",
       "      <td>511.0</td>\n",
       "      <td>ROMA^ ELIE</td>\n",
       "      <td>10036466</td>\n",
       "      <td>WDH3006</td>\n",
       "      <td>86</td>\n",
       "      <td>under way using engine</td>\n",
       "      <td>51.0</td>\n",
       "      <td>11.0</td>\n",
       "      <td>0.0</td>\n",
       "      <td>86</td>\n",
       "    </tr>\n",
       "    <tr>\n",
       "      <th>149529</th>\n",
       "      <td>4976948370</td>\n",
       "      <td>368651926</td>\n",
       "      <td>2015-01-15 10:45:49</td>\n",
       "      <td>28.99486</td>\n",
       "      <td>-90.01789</td>\n",
       "      <td>10.9</td>\n",
       "      <td>-129.9</td>\n",
       "      <td>511.0</td>\n",
       "      <td>ROMA^ ELIE</td>\n",
       "      <td>10036466</td>\n",
       "      <td>WDH3006</td>\n",
       "      <td>86</td>\n",
       "      <td>under way using engine</td>\n",
       "      <td>51.0</td>\n",
       "      <td>11.0</td>\n",
       "      <td>0.0</td>\n",
       "      <td>86</td>\n",
       "    </tr>\n",
       "    <tr>\n",
       "      <th>149542</th>\n",
       "      <td>4976950518</td>\n",
       "      <td>368651926</td>\n",
       "      <td>2015-01-15 10:47:19</td>\n",
       "      <td>28.99567</td>\n",
       "      <td>-90.02298</td>\n",
       "      <td>10.7</td>\n",
       "      <td>-127.9</td>\n",
       "      <td>511.0</td>\n",
       "      <td>ROMA^ ELIE</td>\n",
       "      <td>10036466</td>\n",
       "      <td>WDH3006</td>\n",
       "      <td>86</td>\n",
       "      <td>under way using engine</td>\n",
       "      <td>51.0</td>\n",
       "      <td>11.0</td>\n",
       "      <td>0.0</td>\n",
       "      <td>86</td>\n",
       "    </tr>\n",
       "    <tr>\n",
       "      <th>149561</th>\n",
       "      <td>4976954864</td>\n",
       "      <td>368651926</td>\n",
       "      <td>2015-01-15 10:50:49</td>\n",
       "      <td>28.99811</td>\n",
       "      <td>-90.03460</td>\n",
       "      <td>10.9</td>\n",
       "      <td>-123.6</td>\n",
       "      <td>511.0</td>\n",
       "      <td>ROMA^ ELIE</td>\n",
       "      <td>10036466</td>\n",
       "      <td>WDH3006</td>\n",
       "      <td>86</td>\n",
       "      <td>under way using engine</td>\n",
       "      <td>51.0</td>\n",
       "      <td>11.0</td>\n",
       "      <td>0.0</td>\n",
       "      <td>86</td>\n",
       "    </tr>\n",
       "    <tr>\n",
       "      <th>149562</th>\n",
       "      <td>4976954943</td>\n",
       "      <td>368651926</td>\n",
       "      <td>2015-01-15 10:54:19</td>\n",
       "      <td>29.00145</td>\n",
       "      <td>-90.04580</td>\n",
       "      <td>10.4</td>\n",
       "      <td>-118.8</td>\n",
       "      <td>511.0</td>\n",
       "      <td>ROMA^ ELIE</td>\n",
       "      <td>10036466</td>\n",
       "      <td>WDH3006</td>\n",
       "      <td>86</td>\n",
       "      <td>under way using engine</td>\n",
       "      <td>51.0</td>\n",
       "      <td>11.0</td>\n",
       "      <td>0.0</td>\n",
       "      <td>86</td>\n",
       "    </tr>\n",
       "  </tbody>\n",
       "</table>\n",
       "</div>"
      ],
      "text/plain": [
       "             index       MMSI        BaseDateTime       LAT       LON   SOG  \\\n",
       "149517  4976945523  368651926 2015-01-15 10:43:49  28.99371 -90.01105  10.8   \n",
       "149529  4976948370  368651926 2015-01-15 10:45:49  28.99486 -90.01789  10.9   \n",
       "149542  4976950518  368651926 2015-01-15 10:47:19  28.99567 -90.02298  10.7   \n",
       "149561  4976954864  368651926 2015-01-15 10:50:49  28.99811 -90.03460  10.9   \n",
       "149562  4976954943  368651926 2015-01-15 10:54:19  29.00145 -90.04580  10.4   \n",
       "\n",
       "          COG  Heading  VesselName       IMO CallSign  VesselType  \\\n",
       "149517 -130.7    511.0  ROMA^ ELIE  10036466  WDH3006          86   \n",
       "149529 -129.9    511.0  ROMA^ ELIE  10036466  WDH3006          86   \n",
       "149542 -127.9    511.0  ROMA^ ELIE  10036466  WDH3006          86   \n",
       "149561 -123.6    511.0  ROMA^ ELIE  10036466  WDH3006          86   \n",
       "149562 -118.8    511.0  ROMA^ ELIE  10036466  WDH3006          86   \n",
       "\n",
       "                        Status  Length  Width  Draft  Cargo  \n",
       "149517  under way using engine    51.0   11.0    0.0     86  \n",
       "149529  under way using engine    51.0   11.0    0.0     86  \n",
       "149542  under way using engine    51.0   11.0    0.0     86  \n",
       "149561  under way using engine    51.0   11.0    0.0     86  \n",
       "149562  under way using engine    51.0   11.0    0.0     86  "
      ]
     },
     "execution_count": 19,
     "metadata": {},
     "output_type": "execute_result"
    }
   ],
   "source": [
    "tanker_data[tanker_data['Width']<15].head()"
   ]
  },
  {
   "cell_type": "code",
   "execution_count": 20,
   "metadata": {
    "colab": {
     "autoexec": {
      "startup": false,
      "wait_interval": 0
     }
    },
    "colab_type": "code",
    "collapsed": false,
    "id": "AHYLF0kezBbO",
    "outputId": "c64e4100-626b-4f56-c3e4-86af63b03fe3"
   },
   "outputs": [
    {
     "data": {
      "text/html": [
       "<div>\n",
       "<table border=\"1\" class=\"dataframe\">\n",
       "  <thead>\n",
       "    <tr style=\"text-align: right;\">\n",
       "      <th></th>\n",
       "      <th>index</th>\n",
       "      <th>MMSI</th>\n",
       "      <th>BaseDateTime</th>\n",
       "      <th>LAT</th>\n",
       "      <th>LON</th>\n",
       "      <th>SOG</th>\n",
       "      <th>COG</th>\n",
       "      <th>Heading</th>\n",
       "      <th>VesselName</th>\n",
       "      <th>IMO</th>\n",
       "      <th>CallSign</th>\n",
       "      <th>VesselType</th>\n",
       "      <th>Status</th>\n",
       "      <th>Length</th>\n",
       "      <th>Width</th>\n",
       "      <th>Draft</th>\n",
       "      <th>Cargo</th>\n",
       "    </tr>\n",
       "  </thead>\n",
       "  <tbody>\n",
       "    <tr>\n",
       "      <th>1</th>\n",
       "      <td>180</td>\n",
       "      <td>311047100</td>\n",
       "      <td>2015-01-01 00:01:07</td>\n",
       "      <td>29.70042</td>\n",
       "      <td>-95.00295</td>\n",
       "      <td>11.1</td>\n",
       "      <td>-129.6</td>\n",
       "      <td>276.0</td>\n",
       "      <td>NORDIC AKI</td>\n",
       "      <td>9505974</td>\n",
       "      <td>C6YV9</td>\n",
       "      <td>89</td>\n",
       "      <td>under way using engine</td>\n",
       "      <td>134.0</td>\n",
       "      <td>22.0</td>\n",
       "      <td>7.3</td>\n",
       "      <td>89</td>\n",
       "    </tr>\n",
       "    <tr>\n",
       "      <th>2</th>\n",
       "      <td>687</td>\n",
       "      <td>375439000</td>\n",
       "      <td>2015-01-01 00:00:13</td>\n",
       "      <td>29.17793</td>\n",
       "      <td>-94.65495</td>\n",
       "      <td>0.1</td>\n",
       "      <td>99.0</td>\n",
       "      <td>60.0</td>\n",
       "      <td>MAPLE 3</td>\n",
       "      <td>9034690</td>\n",
       "      <td>J8B3453</td>\n",
       "      <td>84</td>\n",
       "      <td>at anchor</td>\n",
       "      <td>160.0</td>\n",
       "      <td>26.0</td>\n",
       "      <td>9.3</td>\n",
       "      <td>84</td>\n",
       "    </tr>\n",
       "    <tr>\n",
       "      <th>3</th>\n",
       "      <td>692</td>\n",
       "      <td>229837000</td>\n",
       "      <td>2015-01-01 00:00:06</td>\n",
       "      <td>29.60868</td>\n",
       "      <td>-93.80883</td>\n",
       "      <td>8.9</td>\n",
       "      <td>-74.4</td>\n",
       "      <td>339.0</td>\n",
       "      <td>SYN ANTARES</td>\n",
       "      <td>9512848</td>\n",
       "      <td>9HA3650</td>\n",
       "      <td>80</td>\n",
       "      <td>under way using engine</td>\n",
       "      <td>123.0</td>\n",
       "      <td>19.0</td>\n",
       "      <td>5.6</td>\n",
       "      <td>80</td>\n",
       "    </tr>\n",
       "    <tr>\n",
       "      <th>4</th>\n",
       "      <td>901</td>\n",
       "      <td>565721000</td>\n",
       "      <td>2015-01-01 00:02:03</td>\n",
       "      <td>29.73733</td>\n",
       "      <td>-95.12913</td>\n",
       "      <td>0.0</td>\n",
       "      <td>147.0</td>\n",
       "      <td>183.0</td>\n",
       "      <td>MT CHEMBULK ULSAN</td>\n",
       "      <td>9294276</td>\n",
       "      <td>9VFA4</td>\n",
       "      <td>80</td>\n",
       "      <td>moored</td>\n",
       "      <td>141.0</td>\n",
       "      <td>24.0</td>\n",
       "      <td>10.3</td>\n",
       "      <td>80</td>\n",
       "    </tr>\n",
       "    <tr>\n",
       "      <th>5</th>\n",
       "      <td>914</td>\n",
       "      <td>311047100</td>\n",
       "      <td>2015-01-01 00:02:18</td>\n",
       "      <td>29.70080</td>\n",
       "      <td>-95.00713</td>\n",
       "      <td>11.2</td>\n",
       "      <td>-134.6</td>\n",
       "      <td>275.0</td>\n",
       "      <td>NORDIC AKI</td>\n",
       "      <td>9505974</td>\n",
       "      <td>C6YV9</td>\n",
       "      <td>89</td>\n",
       "      <td>under way using engine</td>\n",
       "      <td>134.0</td>\n",
       "      <td>22.0</td>\n",
       "      <td>7.3</td>\n",
       "      <td>89</td>\n",
       "    </tr>\n",
       "  </tbody>\n",
       "</table>\n",
       "</div>"
      ],
      "text/plain": [
       "   index       MMSI        BaseDateTime       LAT       LON   SOG    COG  \\\n",
       "1    180  311047100 2015-01-01 00:01:07  29.70042 -95.00295  11.1 -129.6   \n",
       "2    687  375439000 2015-01-01 00:00:13  29.17793 -94.65495   0.1   99.0   \n",
       "3    692  229837000 2015-01-01 00:00:06  29.60868 -93.80883   8.9  -74.4   \n",
       "4    901  565721000 2015-01-01 00:02:03  29.73733 -95.12913   0.0  147.0   \n",
       "5    914  311047100 2015-01-01 00:02:18  29.70080 -95.00713  11.2 -134.6   \n",
       "\n",
       "   Heading         VesselName      IMO CallSign  VesselType  \\\n",
       "1    276.0         NORDIC AKI  9505974    C6YV9          89   \n",
       "2     60.0            MAPLE 3  9034690  J8B3453          84   \n",
       "3    339.0        SYN ANTARES  9512848  9HA3650          80   \n",
       "4    183.0  MT CHEMBULK ULSAN  9294276    9VFA4          80   \n",
       "5    275.0         NORDIC AKI  9505974    C6YV9          89   \n",
       "\n",
       "                   Status  Length  Width  Draft  Cargo  \n",
       "1  under way using engine   134.0   22.0    7.3     89  \n",
       "2               at anchor   160.0   26.0    9.3     84  \n",
       "3  under way using engine   123.0   19.0    5.6     80  \n",
       "4                  moored   141.0   24.0   10.3     80  \n",
       "5  under way using engine   134.0   22.0    7.3     89  "
      ]
     },
     "execution_count": 20,
     "metadata": {},
     "output_type": "execute_result"
    }
   ],
   "source": [
    "tanker_data[tanker_data['Length']<200].head()"
   ]
  },
  {
   "cell_type": "code",
   "execution_count": 21,
   "metadata": {
    "colab": {
     "autoexec": {
      "startup": false,
      "wait_interval": 0
     }
    },
    "colab_type": "code",
    "collapsed": false,
    "id": "BDnKd0SDzBbQ",
    "outputId": "cb657ce5-4c0e-46d5-ed49-1500481a9a41"
   },
   "outputs": [
    {
     "data": {
      "text/html": [
       "<div>\n",
       "<table border=\"1\" class=\"dataframe\">\n",
       "  <thead>\n",
       "    <tr style=\"text-align: right;\">\n",
       "      <th></th>\n",
       "      <th>index</th>\n",
       "      <th>MMSI</th>\n",
       "      <th>BaseDateTime</th>\n",
       "      <th>LAT</th>\n",
       "      <th>LON</th>\n",
       "      <th>SOG</th>\n",
       "      <th>COG</th>\n",
       "      <th>Heading</th>\n",
       "      <th>VesselName</th>\n",
       "      <th>IMO</th>\n",
       "      <th>CallSign</th>\n",
       "      <th>VesselType</th>\n",
       "      <th>Status</th>\n",
       "      <th>Length</th>\n",
       "      <th>Width</th>\n",
       "      <th>Draft</th>\n",
       "      <th>Cargo</th>\n",
       "    </tr>\n",
       "  </thead>\n",
       "  <tbody>\n",
       "    <tr>\n",
       "      <th>0</th>\n",
       "      <td>116</td>\n",
       "      <td>636013447</td>\n",
       "      <td>2015-01-01 00:00:52</td>\n",
       "      <td>28.55866</td>\n",
       "      <td>-94.25811</td>\n",
       "      <td>0.1</td>\n",
       "      <td>-110.6</td>\n",
       "      <td>63.0</td>\n",
       "      <td>MANIFA</td>\n",
       "      <td>9384198</td>\n",
       "      <td>A8NA7</td>\n",
       "      <td>89</td>\n",
       "      <td>at anchor</td>\n",
       "      <td>333.0</td>\n",
       "      <td>60.0</td>\n",
       "      <td>11.4</td>\n",
       "      <td>89</td>\n",
       "    </tr>\n",
       "    <tr>\n",
       "      <th>7</th>\n",
       "      <td>1030</td>\n",
       "      <td>538004568</td>\n",
       "      <td>2015-01-01 00:00:20</td>\n",
       "      <td>28.58218</td>\n",
       "      <td>-94.58314</td>\n",
       "      <td>0.0</td>\n",
       "      <td>-87.8</td>\n",
       "      <td>54.0</td>\n",
       "      <td>SAMCO TAIGA</td>\n",
       "      <td>9590888</td>\n",
       "      <td>V7XT7</td>\n",
       "      <td>89</td>\n",
       "      <td>at anchor</td>\n",
       "      <td>333.0</td>\n",
       "      <td>60.0</td>\n",
       "      <td>10.7</td>\n",
       "      <td>89</td>\n",
       "    </tr>\n",
       "    <tr>\n",
       "      <th>11</th>\n",
       "      <td>2292</td>\n",
       "      <td>241345000</td>\n",
       "      <td>2015-01-01 00:01:42</td>\n",
       "      <td>29.18032</td>\n",
       "      <td>-94.58893</td>\n",
       "      <td>0.1</td>\n",
       "      <td>106.7</td>\n",
       "      <td>57.0</td>\n",
       "      <td>OLYMPIC SEA</td>\n",
       "      <td>9489285</td>\n",
       "      <td>SVCB4</td>\n",
       "      <td>80</td>\n",
       "      <td>at anchor</td>\n",
       "      <td>244.0</td>\n",
       "      <td>42.0</td>\n",
       "      <td>9.0</td>\n",
       "      <td>80</td>\n",
       "    </tr>\n",
       "    <tr>\n",
       "      <th>19</th>\n",
       "      <td>4716</td>\n",
       "      <td>240613000</td>\n",
       "      <td>2015-01-01 00:01:39</td>\n",
       "      <td>29.13163</td>\n",
       "      <td>-94.57624</td>\n",
       "      <td>0.1</td>\n",
       "      <td>-121.6</td>\n",
       "      <td>49.0</td>\n",
       "      <td>CARMEL</td>\n",
       "      <td>9308857</td>\n",
       "      <td>SZQG</td>\n",
       "      <td>89</td>\n",
       "      <td>at anchor</td>\n",
       "      <td>244.0</td>\n",
       "      <td>42.0</td>\n",
       "      <td>11.0</td>\n",
       "      <td>89</td>\n",
       "    </tr>\n",
       "    <tr>\n",
       "      <th>27</th>\n",
       "      <td>6085</td>\n",
       "      <td>538004568</td>\n",
       "      <td>2015-01-01 00:06:18</td>\n",
       "      <td>28.58258</td>\n",
       "      <td>-94.58348</td>\n",
       "      <td>0.2</td>\n",
       "      <td>-88.4</td>\n",
       "      <td>71.0</td>\n",
       "      <td>SAMCO TAIGA</td>\n",
       "      <td>9590888</td>\n",
       "      <td>V7XT7</td>\n",
       "      <td>89</td>\n",
       "      <td>at anchor</td>\n",
       "      <td>333.0</td>\n",
       "      <td>60.0</td>\n",
       "      <td>10.7</td>\n",
       "      <td>89</td>\n",
       "    </tr>\n",
       "  </tbody>\n",
       "</table>\n",
       "</div>"
      ],
      "text/plain": [
       "    index       MMSI        BaseDateTime       LAT       LON  SOG    COG  \\\n",
       "0     116  636013447 2015-01-01 00:00:52  28.55866 -94.25811  0.1 -110.6   \n",
       "7    1030  538004568 2015-01-01 00:00:20  28.58218 -94.58314  0.0  -87.8   \n",
       "11   2292  241345000 2015-01-01 00:01:42  29.18032 -94.58893  0.1  106.7   \n",
       "19   4716  240613000 2015-01-01 00:01:39  29.13163 -94.57624  0.1 -121.6   \n",
       "27   6085  538004568 2015-01-01 00:06:18  28.58258 -94.58348  0.2  -88.4   \n",
       "\n",
       "    Heading   VesselName      IMO CallSign  VesselType     Status  Length  \\\n",
       "0      63.0       MANIFA  9384198    A8NA7          89  at anchor   333.0   \n",
       "7      54.0  SAMCO TAIGA  9590888    V7XT7          89  at anchor   333.0   \n",
       "11     57.0  OLYMPIC SEA  9489285    SVCB4          80  at anchor   244.0   \n",
       "19     49.0       CARMEL  9308857     SZQG          89  at anchor   244.0   \n",
       "27     71.0  SAMCO TAIGA  9590888    V7XT7          89  at anchor   333.0   \n",
       "\n",
       "    Width  Draft  Cargo  \n",
       "0    60.0   11.4     89  \n",
       "7    60.0   10.7     89  \n",
       "11   42.0    9.0     80  \n",
       "19   42.0   11.0     89  \n",
       "27   60.0   10.7     89  "
      ]
     },
     "execution_count": 21,
     "metadata": {},
     "output_type": "execute_result"
    }
   ],
   "source": [
    "tanker_data[tanker_data['Length']>200].head()"
   ]
  },
  {
   "cell_type": "markdown",
   "metadata": {
    "colab_type": "text",
    "id": "Jeca0iodA0qS"
   },
   "source": [
    "Let's get all the IMOs for vessels whose length is above 300m. As we will see they belong to Very Large Crude Carriers (VLCC)."
   ]
  },
  {
   "cell_type": "code",
   "execution_count": 22,
   "metadata": {
    "colab": {
     "autoexec": {
      "startup": false,
      "wait_interval": 0
     }
    },
    "colab_type": "code",
    "collapsed": false,
    "id": "SSvTeatNzBbT",
    "outputId": "b34a4d86-bfda-43e7-c799-8b9aabf48ef4"
   },
   "outputs": [
    {
     "data": {
      "text/plain": [
       "array([9384198, 9590888, 9484730, 9384215, 9519494])"
      ]
     },
     "execution_count": 22,
     "metadata": {},
     "output_type": "execute_result"
    }
   ],
   "source": [
    "tanker_data[tanker_data['Length']>300].IMO.unique()"
   ]
  },
  {
   "cell_type": "markdown",
   "metadata": {
    "colab_type": "text",
    "id": "AIjYoW8XgitD"
   },
   "source": [
    "### Erroneous IMO"
   ]
  },
  {
   "cell_type": "markdown",
   "metadata": {
    "colab_type": "text",
    "id": "LlY4AXrGA0qV"
   },
   "source": [
    "Below is a simple function to check the IMO validity (idea behind the validity check was explained above)."
   ]
  },
  {
   "cell_type": "code",
   "execution_count": 23,
   "metadata": {
    "colab": {
     "autoexec": {
      "startup": false,
      "wait_interval": 0
     }
    },
    "colab_type": "code",
    "collapsed": true,
    "id": "tR9EPRoLzBbi"
   },
   "outputs": [],
   "source": [
    "def IMO_validity(IMO):\n",
    "    sn = [int(d) for d in str(IMO)]\n",
    "    checksum = sn[0]*7 + sn[1]*6 + sn[2]*5 + sn[3]*4 + sn[4]*3 + sn[5]*2\n",
    "    checksum_split = [int(d) for d in str(checksum)]\n",
    "    if checksum_split[-1] == sn[6]:\n",
    "        return True\n",
    "    else:\n",
    "        return False"
   ]
  },
  {
   "cell_type": "markdown",
   "metadata": {
    "colab_type": "text",
    "id": "kpJDNw26A0qY"
   },
   "source": [
    "Check single IMO example."
   ]
  },
  {
   "cell_type": "code",
   "execution_count": 24,
   "metadata": {
    "colab": {
     "autoexec": {
      "startup": false,
      "wait_interval": 0
     }
    },
    "colab_type": "code",
    "collapsed": false,
    "id": "jzSeWr7szBbn",
    "outputId": "e6e85ce2-f0e8-4b52-8793-592414d88dff"
   },
   "outputs": [
    {
     "data": {
      "text/plain": [
       "True"
      ]
     },
     "execution_count": 24,
     "metadata": {},
     "output_type": "execute_result"
    }
   ],
   "source": [
    "IMO_validity(9412036)"
   ]
  },
  {
   "cell_type": "markdown",
   "metadata": {
    "colab_type": "text",
    "id": "1FFBtmAzA0qc"
   },
   "source": [
    "Create new column \"IMO_Valid\" and populate it with True/False by applying newly created IMO_Validity function."
   ]
  },
  {
   "cell_type": "code",
   "execution_count": 25,
   "metadata": {
    "colab": {
     "autoexec": {
      "startup": false,
      "wait_interval": 0
     }
    },
    "colab_type": "code",
    "collapsed": true,
    "id": "yQHRsG_fzBbu"
   },
   "outputs": [],
   "source": [
    "tanker_data['IMO_Valid'] = tanker_data['IMO'].apply(IMO_validity)"
   ]
  },
  {
   "cell_type": "markdown",
   "metadata": {
    "colab_type": "text",
    "id": "Y7zUo7eDA0qe"
   },
   "source": [
    "We've got almost 26,000 rows with invalid IMO."
   ]
  },
  {
   "cell_type": "code",
   "execution_count": 26,
   "metadata": {
    "colab": {
     "autoexec": {
      "startup": false,
      "wait_interval": 0
     }
    },
    "colab_type": "code",
    "collapsed": false,
    "id": "huIV2c2TzBbx",
    "outputId": "1ce985fe-4fb4-4451-c12e-3d97373629bd"
   },
   "outputs": [
    {
     "data": {
      "text/plain": [
       "True     308103\n",
       "False     25919\n",
       "Name: IMO_Valid, dtype: int64"
      ]
     },
     "execution_count": 26,
     "metadata": {},
     "output_type": "execute_result"
    }
   ],
   "source": [
    "tanker_data['IMO_Valid'].value_counts()"
   ]
  },
  {
   "cell_type": "markdown",
   "metadata": {
    "colab_type": "text",
    "id": "MGbzKHAMA0qg"
   },
   "source": [
    "Let's check how many vessels actually have invalid IMO."
   ]
  },
  {
   "cell_type": "code",
   "execution_count": 27,
   "metadata": {
    "colab": {
     "autoexec": {
      "startup": false,
      "wait_interval": 0
     }
    },
    "colab_type": "code",
    "collapsed": false,
    "id": "zVbtGZakzBb2",
    "outputId": "34679d04-c3fe-46bc-d1ba-379fbb2c8ab2"
   },
   "outputs": [
    {
     "data": {
      "text/plain": [
       "array(['EAGLE SYDNEY', 'ROMA^ ELIE'], dtype=object)"
      ]
     },
     "execution_count": 27,
     "metadata": {},
     "output_type": "execute_result"
    }
   ],
   "source": [
    "tanker_data['VesselName'][tanker_data['IMO_Valid']==False].unique()"
   ]
  },
  {
   "cell_type": "markdown",
   "metadata": {
    "colab_type": "text",
    "id": "RTFHp-n6A0qi"
   },
   "source": [
    "EAGLE SYDNEY has IMO 9371651, there are 6 different vessels with same IMO on VesselTracker website, all of them have different length."
   ]
  },
  {
   "cell_type": "code",
   "execution_count": 28,
   "metadata": {
    "colab": {
     "autoexec": {
      "startup": false,
      "wait_interval": 0
     }
    },
    "colab_type": "code",
    "collapsed": false,
    "id": "1wBBJC_-zBb5",
    "outputId": "9cc8816a-51c1-4683-c0e2-e4e0f7ef412a"
   },
   "outputs": [
    {
     "data": {
      "text/html": [
       "<div>\n",
       "<table border=\"1\" class=\"dataframe\">\n",
       "  <thead>\n",
       "    <tr style=\"text-align: right;\">\n",
       "      <th></th>\n",
       "      <th>index</th>\n",
       "      <th>MMSI</th>\n",
       "      <th>BaseDateTime</th>\n",
       "      <th>LAT</th>\n",
       "      <th>LON</th>\n",
       "      <th>SOG</th>\n",
       "      <th>COG</th>\n",
       "      <th>Heading</th>\n",
       "      <th>VesselName</th>\n",
       "      <th>IMO</th>\n",
       "      <th>CallSign</th>\n",
       "      <th>VesselType</th>\n",
       "      <th>Status</th>\n",
       "      <th>Length</th>\n",
       "      <th>Width</th>\n",
       "      <th>Draft</th>\n",
       "      <th>Cargo</th>\n",
       "      <th>IMO_Valid</th>\n",
       "    </tr>\n",
       "  </thead>\n",
       "  <tbody>\n",
       "    <tr>\n",
       "      <th>424</th>\n",
       "      <td>78384</td>\n",
       "      <td>352124930</td>\n",
       "      <td>2015-01-01 00:19:27</td>\n",
       "      <td>28.28015</td>\n",
       "      <td>-90.76265</td>\n",
       "      <td>0.0</td>\n",
       "      <td>-99.6</td>\n",
       "      <td>71.0</td>\n",
       "      <td>EAGLE SYDNEY</td>\n",
       "      <td>9371651</td>\n",
       "      <td>3FUU</td>\n",
       "      <td>81</td>\n",
       "      <td>restricted maneuverability</td>\n",
       "      <td>229.0</td>\n",
       "      <td>42.0</td>\n",
       "      <td>10.5</td>\n",
       "      <td>81</td>\n",
       "      <td>False</td>\n",
       "    </tr>\n",
       "    <tr>\n",
       "      <th>427</th>\n",
       "      <td>78509</td>\n",
       "      <td>352124930</td>\n",
       "      <td>2015-01-01 00:12:48</td>\n",
       "      <td>28.28007</td>\n",
       "      <td>-90.76252</td>\n",
       "      <td>0.1</td>\n",
       "      <td>-100.6</td>\n",
       "      <td>70.0</td>\n",
       "      <td>EAGLE SYDNEY</td>\n",
       "      <td>9371651</td>\n",
       "      <td>3FUU</td>\n",
       "      <td>81</td>\n",
       "      <td>restricted maneuverability</td>\n",
       "      <td>229.0</td>\n",
       "      <td>42.0</td>\n",
       "      <td>10.5</td>\n",
       "      <td>81</td>\n",
       "      <td>False</td>\n",
       "    </tr>\n",
       "    <tr>\n",
       "      <th>434</th>\n",
       "      <td>79716</td>\n",
       "      <td>352124930</td>\n",
       "      <td>2015-01-01 00:00:08</td>\n",
       "      <td>28.28008</td>\n",
       "      <td>-90.76253</td>\n",
       "      <td>0.1</td>\n",
       "      <td>114.0</td>\n",
       "      <td>72.0</td>\n",
       "      <td>EAGLE SYDNEY</td>\n",
       "      <td>9371651</td>\n",
       "      <td>3FUU</td>\n",
       "      <td>81</td>\n",
       "      <td>restricted maneuverability</td>\n",
       "      <td>229.0</td>\n",
       "      <td>42.0</td>\n",
       "      <td>10.5</td>\n",
       "      <td>81</td>\n",
       "      <td>False</td>\n",
       "    </tr>\n",
       "    <tr>\n",
       "      <th>435</th>\n",
       "      <td>79723</td>\n",
       "      <td>352124930</td>\n",
       "      <td>2015-01-01 00:18:08</td>\n",
       "      <td>28.28017</td>\n",
       "      <td>-90.76263</td>\n",
       "      <td>0.1</td>\n",
       "      <td>-99.6</td>\n",
       "      <td>71.0</td>\n",
       "      <td>EAGLE SYDNEY</td>\n",
       "      <td>9371651</td>\n",
       "      <td>3FUU</td>\n",
       "      <td>81</td>\n",
       "      <td>restricted maneuverability</td>\n",
       "      <td>229.0</td>\n",
       "      <td>42.0</td>\n",
       "      <td>10.5</td>\n",
       "      <td>81</td>\n",
       "      <td>False</td>\n",
       "    </tr>\n",
       "    <tr>\n",
       "      <th>445</th>\n",
       "      <td>82440</td>\n",
       "      <td>352124930</td>\n",
       "      <td>2015-01-01 00:39:47</td>\n",
       "      <td>28.28015</td>\n",
       "      <td>-90.76267</td>\n",
       "      <td>0.0</td>\n",
       "      <td>164.0</td>\n",
       "      <td>69.0</td>\n",
       "      <td>EAGLE SYDNEY</td>\n",
       "      <td>9371651</td>\n",
       "      <td>3FUU</td>\n",
       "      <td>81</td>\n",
       "      <td>restricted maneuverability</td>\n",
       "      <td>229.0</td>\n",
       "      <td>42.0</td>\n",
       "      <td>10.5</td>\n",
       "      <td>81</td>\n",
       "      <td>False</td>\n",
       "    </tr>\n",
       "  </tbody>\n",
       "</table>\n",
       "</div>"
      ],
      "text/plain": [
       "     index       MMSI        BaseDateTime       LAT       LON  SOG    COG  \\\n",
       "424  78384  352124930 2015-01-01 00:19:27  28.28015 -90.76265  0.0  -99.6   \n",
       "427  78509  352124930 2015-01-01 00:12:48  28.28007 -90.76252  0.1 -100.6   \n",
       "434  79716  352124930 2015-01-01 00:00:08  28.28008 -90.76253  0.1  114.0   \n",
       "435  79723  352124930 2015-01-01 00:18:08  28.28017 -90.76263  0.1  -99.6   \n",
       "445  82440  352124930 2015-01-01 00:39:47  28.28015 -90.76267  0.0  164.0   \n",
       "\n",
       "     Heading    VesselName      IMO CallSign  VesselType  \\\n",
       "424     71.0  EAGLE SYDNEY  9371651     3FUU          81   \n",
       "427     70.0  EAGLE SYDNEY  9371651     3FUU          81   \n",
       "434     72.0  EAGLE SYDNEY  9371651     3FUU          81   \n",
       "435     71.0  EAGLE SYDNEY  9371651     3FUU          81   \n",
       "445     69.0  EAGLE SYDNEY  9371651     3FUU          81   \n",
       "\n",
       "                         Status  Length  Width  Draft  Cargo IMO_Valid  \n",
       "424  restricted maneuverability   229.0   42.0   10.5     81     False  \n",
       "427  restricted maneuverability   229.0   42.0   10.5     81     False  \n",
       "434  restricted maneuverability   229.0   42.0   10.5     81     False  \n",
       "435  restricted maneuverability   229.0   42.0   10.5     81     False  \n",
       "445  restricted maneuverability   229.0   42.0   10.5     81     False  "
      ]
     },
     "execution_count": 28,
     "metadata": {},
     "output_type": "execute_result"
    }
   ],
   "source": [
    "tanker_data[tanker_data['VesselName']=='EAGLE SYDNEY'].head()"
   ]
  },
  {
   "cell_type": "markdown",
   "metadata": {
    "colab_type": "text",
    "id": "F27U-9RFzBb_"
   },
   "source": [
    "Second vessel we have seen before, that's our offshore tug vessel with wrong VesselType."
   ]
  },
  {
   "cell_type": "markdown",
   "metadata": {
    "colab_type": "text",
    "id": "DvTRUHWFzBcA"
   },
   "source": [
    "Later we will drop all rows for two vessels - Eagle Sydney (invalid IMO) and Roma Elie (does not belong to tanker class of vessels).  "
   ]
  },
  {
   "cell_type": "markdown",
   "metadata": {
    "colab_type": "text",
    "id": "Vzl9uZOHgsla"
   },
   "source": [
    "### Erroneous vessel coordinates"
   ]
  },
  {
   "cell_type": "markdown",
   "metadata": {
    "colab_type": "text",
    "id": "7Ls9b8HeA0qq"
   },
   "source": [
    "Let's check erroneous vessel position by plotting latitude/longitude coordinates for all entries and look for outliers."
   ]
  },
  {
   "cell_type": "code",
   "execution_count": 30,
   "metadata": {
    "colab": {
     "autoexec": {
      "startup": false,
      "wait_interval": 0
     }
    },
    "colab_type": "code",
    "collapsed": false,
    "id": "LqIfvR6bzBcA",
    "outputId": "8ae09b7f-d716-49ea-b123-c21dc3c6ee50"
   },
   "outputs": [
    {
     "data": {
      "image/png": "[encoded data removed]",
      "text/plain": [
       "<matplotlib.figure.Figure at 0x117f72150>"
      ]
     },
     "metadata": {},
     "output_type": "display_data"
    }
   ],
   "source": [
    "plt.scatter(tanker_data.LON,tanker_data.LAT)\n",
    "plt.xlabel('Longitude')\n",
    "plt.ylabel('Latitude')\n",
    "plt.title('Vessel coordinates')\n",
    "plt.grid(True)"
   ]
  },
  {
   "cell_type": "markdown",
   "metadata": {
    "colab_type": "text",
    "id": "oNOcQjurA0qt"
   },
   "source": [
    "Some values lay below 20 deg of Latitude. DataFrame slice is below."
   ]
  },
  {
   "cell_type": "code",
   "execution_count": 31,
   "metadata": {
    "colab": {
     "autoexec": {
      "startup": false,
      "wait_interval": 0
     }
    },
    "colab_type": "code",
    "collapsed": false,
    "id": "NRRehcaZzBcE",
    "outputId": "e0d60bc2-f0f2-4e82-98c6-d4af7f4720ac"
   },
   "outputs": [
    {
     "data": {
      "text/html": [
       "<div>\n",
       "<table border=\"1\" class=\"dataframe\">\n",
       "  <thead>\n",
       "    <tr style=\"text-align: right;\">\n",
       "      <th></th>\n",
       "      <th>index</th>\n",
       "      <th>MMSI</th>\n",
       "      <th>BaseDateTime</th>\n",
       "      <th>LAT</th>\n",
       "      <th>LON</th>\n",
       "      <th>SOG</th>\n",
       "      <th>COG</th>\n",
       "      <th>Heading</th>\n",
       "      <th>VesselName</th>\n",
       "      <th>IMO</th>\n",
       "      <th>CallSign</th>\n",
       "      <th>VesselType</th>\n",
       "      <th>Status</th>\n",
       "      <th>Length</th>\n",
       "      <th>Width</th>\n",
       "      <th>Draft</th>\n",
       "      <th>Cargo</th>\n",
       "      <th>IMO_Valid</th>\n",
       "    </tr>\n",
       "  </thead>\n",
       "  <tbody>\n",
       "    <tr>\n",
       "      <th>277935</th>\n",
       "      <td>16675239660</td>\n",
       "      <td>538005660</td>\n",
       "      <td>2015-01-28 06:52:16</td>\n",
       "      <td>18.12807</td>\n",
       "      <td>-94.40351</td>\n",
       "      <td>0.5</td>\n",
       "      <td>-160.2</td>\n",
       "      <td>32.0</td>\n",
       "      <td>TORM GUNHILD</td>\n",
       "      <td>9172193</td>\n",
       "      <td>V7FU7</td>\n",
       "      <td>89</td>\n",
       "      <td>under way using engine</td>\n",
       "      <td>180.0</td>\n",
       "      <td>32.0</td>\n",
       "      <td>11.0</td>\n",
       "      <td>89</td>\n",
       "      <td>True</td>\n",
       "    </tr>\n",
       "  </tbody>\n",
       "</table>\n",
       "</div>"
      ],
      "text/plain": [
       "              index       MMSI        BaseDateTime       LAT       LON  SOG  \\\n",
       "277935  16675239660  538005660 2015-01-28 06:52:16  18.12807 -94.40351  0.5   \n",
       "\n",
       "          COG  Heading    VesselName      IMO CallSign  VesselType  \\\n",
       "277935 -160.2     32.0  TORM GUNHILD  9172193    V7FU7          89   \n",
       "\n",
       "                        Status  Length  Width  Draft  Cargo IMO_Valid  \n",
       "277935  under way using engine   180.0   32.0   11.0     89      True  "
      ]
     },
     "execution_count": 31,
     "metadata": {},
     "output_type": "execute_result"
    }
   ],
   "source": [
    "tanker_data[tanker_data['LAT']<20]"
   ]
  },
  {
   "cell_type": "markdown",
   "metadata": {
    "colab_type": "text",
    "id": "E3R0EUSOA0qx"
   },
   "source": [
    "As we can see from the slice, it's a single point from \"Torm Gunhild\" vessel. Let's plot whole route for this vessel."
   ]
  },
  {
   "cell_type": "code",
   "execution_count": 32,
   "metadata": {
    "colab": {
     "autoexec": {
      "startup": false,
      "wait_interval": 0
     }
    },
    "colab_type": "code",
    "collapsed": true,
    "id": "hVrnTggzzBcI"
   },
   "outputs": [],
   "source": [
    "torm = tanker_data[tanker_data['IMO']==9172193]"
   ]
  },
  {
   "cell_type": "code",
   "execution_count": 34,
   "metadata": {
    "colab": {
     "autoexec": {
      "startup": false,
      "wait_interval": 0
     }
    },
    "colab_type": "code",
    "collapsed": false,
    "id": "_XknR8anzBcJ",
    "outputId": "f3ccaceb-2b1f-401c-cc9e-6c81972b3931"
   },
   "outputs": [
    {
     "data": {
      "image/png": "[encoded data removed]",
      "text/plain": [
       "<matplotlib.figure.Figure at 0x117f61410>"
      ]
     },
     "metadata": {},
     "output_type": "display_data"
    }
   ],
   "source": [
    "sns.lmplot(x='LON',y='LAT', data=torm, fit_reg=False, hue='Status')\n",
    "plt.xlabel('Longitude')\n",
    "plt.ylabel('Latitude')\n",
    "plt.title('TORM GUNHILD Position')\n",
    "plt.grid(True)"
   ]
  },
  {
   "cell_type": "markdown",
   "metadata": {
    "colab_type": "text",
    "id": "AJKpEW2HzBcN"
   },
   "source": [
    "There's one definite outlier in vessel position, we can remove right before generating routes with FME."
   ]
  },
  {
   "cell_type": "markdown",
   "metadata": {
    "colab_type": "text",
    "id": "5sSTMC1MA0q4"
   },
   "source": [
    "### Erroneous MMSI"
   ]
  },
  {
   "cell_type": "markdown",
   "metadata": {
    "colab_type": "text",
    "id": "QFkA8rhazBcN"
   },
   "source": [
    "Block below checks if there's any MMSI number which have more than one corresponding IMO number. In our case there is no discrepancy, partially due to dataset representing only one month timeframe. "
   ]
  },
  {
   "cell_type": "code",
   "execution_count": 35,
   "metadata": {
    "colab": {
     "autoexec": {
      "startup": false,
      "wait_interval": 0
     }
    },
    "colab_type": "code",
    "collapsed": true,
    "id": "Cxds0v_bzBcO"
   },
   "outputs": [],
   "source": [
    "for x in np.nditer(tanker_data['MMSI'].unique()):\n",
    "    if len(tanker_data[tanker_data['MMSI']==int(x)]['IMO'].unique()) ==1:\n",
    "        continue\n",
    "    else:\n",
    "        print('MMSI {} does not have unique IMO'.format(x))\n"
   ]
  },
  {
   "cell_type": "markdown",
   "metadata": {
    "colab_type": "text",
    "id": "VZT1GmmCg1pM"
   },
   "source": [
    "### Final preparations"
   ]
  },
  {
   "cell_type": "markdown",
   "metadata": {
    "colab_type": "text",
    "id": "2Y7b9drzzBcQ"
   },
   "source": [
    "Now we can remove all the erroneous data before exporting LAT/LON points vessel by vessel and prepare clean dataframe for January 2015. As mentioned before, we'll need to drop all rows corresponding to two vessels - Eagle Sydney (invalid IMO) and Roma Elie (does not belong to tanker class of vessels). "
   ]
  },
  {
   "cell_type": "code",
   "execution_count": 36,
   "metadata": {
    "colab": {
     "autoexec": {
      "startup": false,
      "wait_interval": 0
     }
    },
    "colab_type": "code",
    "collapsed": true,
    "id": "FDKtkPUxzBcQ"
   },
   "outputs": [],
   "source": [
    "clean_tanker_data = tanker_data[(tanker_data['IMO'] != 9371651) & (tanker_data['IMO'] != 10036466)]"
   ]
  },
  {
   "cell_type": "markdown",
   "metadata": {
    "colab_type": "text",
    "id": "eKvHzIqRhI4c"
   },
   "source": [
    "Check that remaining records have valid IMO."
   ]
  },
  {
   "cell_type": "code",
   "execution_count": 37,
   "metadata": {
    "colab": {
     "autoexec": {
      "startup": false,
      "wait_interval": 0
     }
    },
    "colab_type": "code",
    "collapsed": false,
    "id": "iDdW1xsozBcU",
    "outputId": "59eff874-a6dd-4960-cc28-e706dc7341c1"
   },
   "outputs": [
    {
     "data": {
      "text/plain": [
       "True    308103\n",
       "Name: IMO_Valid, dtype: int64"
      ]
     },
     "execution_count": 37,
     "metadata": {},
     "output_type": "execute_result"
    }
   ],
   "source": [
    "clean_tanker_data.IMO_Valid.value_counts()"
   ]
  },
  {
   "cell_type": "markdown",
   "metadata": {
    "colab_type": "text",
    "id": "v3ocmPpKhN5J"
   },
   "source": [
    "Let's create separate csv file for each vessel within dataframe. We will need that to create points to load in GIS (Geographic Information Systems) and later generate vessel routes from this points. "
   ]
  },
  {
   "cell_type": "code",
   "execution_count": 0,
   "metadata": {
    "colab": {
     "autoexec": {
      "startup": false,
      "wait_interval": 0
     }
    },
    "colab_type": "code",
    "collapsed": true,
    "id": "0MrheSMpzBce"
   },
   "outputs": [],
   "source": [
    "for x in np.nditer(clean_tanker_data['MMSI'].unique()):\n",
    "    clean_tanker_data[clean_tanker_data['MMSI'] == int(np.array_str(x))].to_csv('{} Position.csv'.format(x), sep='\\t')"
   ]
  },
  {
   "cell_type": "markdown",
   "metadata": {
    "colab_type": "text",
    "id": "3xqcsxavhpaZ"
   },
   "source": [
    "We will also create cleaned version of csv file for January, 2015."
   ]
  },
  {
   "cell_type": "code",
   "execution_count": 0,
   "metadata": {
    "colab": {
     "autoexec": {
      "startup": false,
      "wait_interval": 0
     }
    },
    "colab_type": "code",
    "collapsed": true,
    "id": "9uN9jV3mzBcg"
   },
   "outputs": [],
   "source": [
    "clean_tanker_data.to_csv('tanker_data_01_cleaned.csv', sep='\\t')"
   ]
  },
  {
   "cell_type": "markdown",
   "metadata": {
    "colab_type": "text",
    "id": "bgeMLDVFhwtm"
   },
   "source": [
    "That was quick analysis of AIS Marine Cadastre dataset covering January, 2015. To create final vizualization, we will follow steps mentioned above for all period of project - January till March for 2014 and 2015. After we have all csv files with coordinates per vessel per month, we can create vessel routes and generate heat maps, which will give us idea, where vessel loaded and offloaded and look at correlation with change of vessel status (\"under way using engine\", change to \"moored\" )"
   ]
  },
  {
   "cell_type": "markdown",
   "metadata": {},
   "source": [
    "## Create and map vessels' routes"
   ]
  },
  {
   "cell_type": "markdown",
   "metadata": {},
   "source": [
    "In this section we will look into Geographic Information Systems (GIS) workflow. GIS provides us a great way to vizualize your data, make quick spatial queries and share your findings with maps. There are several systems available on the market, most famous are ArcGIS (proprietary) and QGIS (open-source). To vizualize vessel routes we'll use QGIS 3, as well as FME (spatial extract, transform, load tool) to prepare our data."
   ]
  },
  {
   "cell_type": "markdown",
   "metadata": {},
   "source": [
    "What we have right now is a subset of data per vessel per month with latitude/longitude coordinates in a .csv format. To work with them in QGIS we need to convert it to .shp files. SHP files can store geometry (point, line, polygon, multiline, etc.) and attributes in it (think of a normal table). \n",
    "\n",
    "To transform existing data we'll use FME. Below is a snapshot of FME workbench. It has reader, write and 5 transformers:\n",
    "* Reader - CSVReader, reads csv file by specifying delimiter. Also assigns CRS at this step - WGS84.\n",
    "* VertexCreator - takes LON/LAT values and creates a point geometry;\n",
    "* Sorter - sorts all points per date, starting from oldest to newest;\n",
    "* PointConnector - connects points one by one in order of occurance, that's why we need a Sorter first. Otherwise it will connect points in wrong order;\n",
    "* AttributeCreator_2 - fix BaseDateTime to date type;\n",
    "* FeatureHolder - holds all the features before writing them in a batch to .shp file;\n",
    "* Writer - writes features to .shp file with predefined fields, because we won't need all the fields for our routes (ex. SOG, COG, heading).\n"
   ]
  },
  {
   "cell_type": "markdown",
   "metadata": {},
   "source": [
    "![title](/Users/bobonaleksei/PycharmProjects/AIS/FME Workbench/FME.png)"
   ]
  },
  {
   "cell_type": "markdown",
   "metadata": {},
   "source": [
    "After we've got .shp file with route per vessel per month, we can merge all routes per month in one shapefile and add it to the map. Map can be accessed from the link below:\n"
   ]
  },
  {
   "cell_type": "markdown",
   "metadata": {},
   "source": [
    "### Findings got from visualizing our dataset:"
   ]
  },
  {
   "cell_type": "markdown",
   "metadata": {},
   "source": [
    "1) Positional data has lots of missing values, plotting points over the line will show you the existing gap.\n",
    "\n",
    "https://s3.eu-west-3.amazonaws.com/aisprojectforkpler/Positional+data+-+missing+values/1.+Positional+data+-+missing+values.html"
   ]
  },
  {
   "cell_type": "markdown",
   "metadata": {},
   "source": [
    "2) Some of the vessel can access ports that are deep inland. Based on their Length/Width we can predict the berth that will be capable of accepting them.\n",
    "\n",
    "https://s3.eu-west-3.amazonaws.com/aisprojectforkpler/Length%3AWidth+for+Destination+prediction/2.+Length%3AWidth+for+destination+prediction.html"
   ]
  },
  {
   "cell_type": "markdown",
   "metadata": {},
   "source": [
    "3) Found certain \"circular patterns\" on the map. One of the patterns exists when vessel is \"at anchor\", it belongs only to one vessel and apply to only one position. Second circular pattern is actually very interesting for us. It is SPM (Single Point Mooring buoy) of LOOP, it allows to offload VLCCs and ULCCs which are too big to enter the port. Hi-tech, flexible hoses are attached to the ship's manifold to receive and transport the crude oil. The buoy and hoses can rotate a full 360 degrees allowing the tanker to maintain a heading of least resistance to wind and waves. Therefore we can see circular patterns here. But in this case there exist more than one route exists, providing us information about operational nature of this pattern.\n",
    "\n",
    "Last pattern can be used as a trigger for offloading event manager.\n",
    "\n",
    "https://s3.eu-west-3.amazonaws.com/aisprojectforkpler/Circular+references/3.+Circular+references.html"
   ]
  },
  {
   "cell_type": "markdown",
   "metadata": {},
   "source": [
    "4) We split vessels into two major groups - first one is tankers that transport oil products and chemicals with length less than 200m and crude oil tankers - above 200m with separate category of VLCCs (about 330m). We can see that amount of vessels of this group decreased from 20 vessels per month in January to 14 vessels per month in June. Also there's not much activity at SPMs, major of the traffic is distributed to inland ports.\n",
    "\n",
    "https://s3.eu-west-3.amazonaws.com/aisprojectforkpler/VLCCs/4.+VLCCs.html\n",
    "\n",
    "https://s3.eu-west-3.amazonaws.com/aisprojectforkpler/Vessel+Traffic+Q1Q2+2015/5.+Vessel+Traffic+Q1Q2+2015.html"
   ]
  },
  {
   "cell_type": "markdown",
   "metadata": {
    "collapsed": true
   },
   "source": [
    "## Conclusion"
   ]
  },
  {
   "cell_type": "markdown",
   "metadata": {},
   "source": [
    "With more finely grained AIS data becoming available due to the reduction in decimation and with AIS data being integrated with a wide range of IoT sensors in ports, on ships and fitted to cargo, weather data, radar data and data from other geospatial and imaging sensors, the volume and breadth of data to be collected, pro- cessed stored, analysed and reported on is growing and creating new insights into the maritime environment resulting in new commercial opportunities."
   ]
  },
  {
   "cell_type": "markdown",
   "metadata": {},
   "source": [
    "These new commercial opportunities include:\n",
    "1. Streaming analytics to clean AIS data providing real time insight into vessel activities with complex events adding new data and new insights\n",
    "2. Historical analytics allow the development of contextual models and patterns to provide insight and support the streaming analytics and allows the development of prescriptive analytics applications\n",
    "3. Detection of complex events adding data and information available to support the maritime operator environment\n",
    "4. The integration of IoT sensors on the ship and shore will support the improvement in efficiencies and lead to further gains in safety, security and improve the economic viability and the environmental protection in this domain"
   ]
  },
  {
   "cell_type": "markdown",
   "metadata": {},
   "source": [
    "As we could see, AIS data can be erroneous and has to be treated carefully. But once this is done, you can have a valuable source of information for tracking commodities with value added event manager and route prediction."
   ]
  }
 ],
 "metadata": {
  "colab": {
   "collapsed_sections": [],
   "default_view": {},
   "name": "AIS_Project_11072018.ipynb",
   "provenance": [],
   "version": "0.3.2",
   "views": {}
  },
  "kernelspec": {
   "display_name": "Python 2",
   "language": "python",
   "name": "python2"
  },
  "language_info": {
   "codemirror_mode": {
    "name": "ipython",
    "version": 2
   },
   "file_extension": ".py",
   "mimetype": "text/x-python",
   "name": "python",
   "nbconvert_exporter": "python",
   "pygments_lexer": "ipython2",
   "version": "2.7.13"
  }
 },
 "nbformat": 4,
 "nbformat_minor": 0
}
